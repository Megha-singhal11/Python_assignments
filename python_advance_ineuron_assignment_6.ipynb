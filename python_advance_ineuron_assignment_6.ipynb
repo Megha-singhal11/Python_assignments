{
 "cells": [
  {
   "cell_type": "markdown",
   "id": "b55e7161",
   "metadata": {},
   "source": [
    "### Q1. Describe three applications for exception processing.\n"
   ]
  },
  {
   "cell_type": "markdown",
   "id": "a176c325",
   "metadata": {},
   "source": [
    "Exception Processing is important to find exceptions that causes the runtime error. As runtime errors Halt the program execution when exception occurs.\n",
    "\n",
    "Exception Processing is used in Various Applications of which few examples are:    \n",
    "**1. Checking Appropriate use of input in an application**    \n",
    "**2. Checking for Arithmetic exceptions in mathematical executions**    \n",
    "**3. Checking File I/O exceptions during File handling**"
   ]
  },
  {
   "cell_type": "markdown",
   "id": "69c74378",
   "metadata": {},
   "source": [
    "### Q2. What happens if you don't do something extra to treat an exception?\n"
   ]
  },
  {
   "cell_type": "markdown",
   "id": "eb71eaf9",
   "metadata": {},
   "source": [
    "If Exceptions are not handled flow of program will be broken during the run time which might lead to a abnormal termination of the program. Inshort inability of program to handle exceptions will result in crashing of program.\n",
    "\n",
    "Here are three points highlighting these consequences:\n",
    "\n",
    "1. **Program Crashes:** Unhandled exceptions can lead to program crashes or abrupt terminations. When an exception occurs and is not caught or handled properly, the program's execution flow can be disrupted, causing the application to shut down unexpectedly. This disrupts user interactions and might lead to data loss or unfinished tasks.\n",
    "\n",
    "2. **Security Vulnerabilities:** Ignoring exceptions can expose security vulnerabilities. Hackers often exploit unhandled exceptions to gain unauthorized access to the application or its underlying systems. By not addressing exceptions, you might inadvertently leave doors open for attackers to exploit weaknesses in your code, potentially leading to data breaches or unauthorized control over the application.\n",
    "\n",
    "3. **Data Corruption:** Unhandled exceptions can disrupt the normal execution of code, potentially leading to data corruption or inconsistencies. For example, if an exception occurs during a data update operation, the data might be left in an incomplete or inconsistent state, compromising the integrity of the application's data.\n",
    "\n",
    "It's essential to anticipate potential exceptions, handle them appropriately, and implement error-handling mechanisms in your code to minimize these negative consequences. By doing so, you enhance the reliability, stability, and security of your application while ensuring a better user experience."
   ]
  },
  {
   "cell_type": "markdown",
   "id": "b2d044ac",
   "metadata": {},
   "source": [
    "### Q3. What are your options for recovering from an exception in your script?\n"
   ]
  },
  {
   "cell_type": "markdown",
   "id": "6ef4faf9",
   "metadata": {},
   "source": [
    "Python provides **`try`** and **`except`** blocks for recovering from an exception in our script.\n",
    "\n",
    "Recovering from exceptions in a script involves implementing strategies to handle errors gracefully and ensure the program can continue functioning. Here are three common options for recovering from exceptions:\n",
    "\n",
    "1. **Exception Handling with Try-Catch Blocks:**\n",
    "   Implement try-catch blocks to isolate the potentially problematic code and provide a specific response when an exception occurs. Inside the `try` block, you place the code that might trigger an exception. In the `catch` block, you specify the type of exception you're handling and define the actions to take when that exception is caught. This approach allows you to execute alternative code paths or provide informative error messages without causing the program to crash.\n",
    "\n",
    "2. **Error Logging and Reporting:**\n",
    "   If an exception occurs that you can't recover from immediately, log the error details for further analysis. Use libraries or built-in features to log exceptions along with relevant context information, such as the stack trace, error message, and variables' values. This information can be invaluable for diagnosing and resolving issues, ensuring that the problem is addressed even if it can't be resolved in real-time.\n",
    "\n",
    "3. **Fallback Mechanisms and Default Values:**\n",
    "   For scenarios where an exception might occur due to external factors, consider implementing fallback mechanisms or default values. Instead of relying on external resources, APIs, or services, you can provide local or default data to prevent the entire process from failing. This way, even if the external resource is unavailable or encounters an issue, your script can continue its operation using alternative data or approaches.\n",
    "\n",
    "Recovering from exceptions requires careful consideration of the context, potential outcomes, and appropriate actions to take. The goal is to maintain the program's functionality, provide meaningful feedback to users, and ensure that the script handles errors effectively without causing undue disruptions."
   ]
  },
  {
   "cell_type": "markdown",
   "id": "bec3c493",
   "metadata": {},
   "source": [
    "### Q4. Describe two methods for triggering exceptions in your script ?\n"
   ]
  },
  {
   "cell_type": "markdown",
   "id": "aaa0035e",
   "metadata": {},
   "source": [
    "**`raise`** and **`assert`** are two methods that can be used to trigger manual exceptions in our script.\n",
    "- **`raise`** method triggers an exception if condition provided to it turns out to be True.\n",
    "- **`assert`** will let the program to continue execution if condition provided to it turns out to be True else exception will be raised"
   ]
  },
  {
   "cell_type": "code",
   "execution_count": 12,
   "id": "af5a5beb",
   "metadata": {},
   "outputs": [
    {
     "ename": "TypeError",
     "evalue": "Division by Zero",
     "output_type": "error",
     "traceback": [
      "\u001b[1;31m---------------------------------------------------------------------------\u001b[0m",
      "\u001b[1;31mZeroDivisionError\u001b[0m                         Traceback (most recent call last)",
      "\u001b[1;32m~\\AppData\\Local\\Temp\\ipykernel_3244\\246680285.py\u001b[0m in \u001b[0;36m<module>\u001b[1;34m\u001b[0m\n\u001b[0;32m      5\u001b[0m \u001b[1;32mtry\u001b[0m\u001b[1;33m:\u001b[0m\u001b[1;33m\u001b[0m\u001b[1;33m\u001b[0m\u001b[0m\n\u001b[1;32m----> 6\u001b[1;33m     \u001b[0mres\u001b[0m \u001b[1;33m=\u001b[0m \u001b[0mx\u001b[0m\u001b[1;33m/\u001b[0m\u001b[0my\u001b[0m\u001b[1;33m\u001b[0m\u001b[1;33m\u001b[0m\u001b[0m\n\u001b[0m\u001b[0;32m      7\u001b[0m \u001b[1;32mexcept\u001b[0m\u001b[1;33m:\u001b[0m\u001b[1;33m\u001b[0m\u001b[1;33m\u001b[0m\u001b[0m\n",
      "\u001b[1;31mZeroDivisionError\u001b[0m: division by zero",
      "\nDuring handling of the above exception, another exception occurred:\n",
      "\u001b[1;31mTypeError\u001b[0m                                 Traceback (most recent call last)",
      "\u001b[1;32m~\\AppData\\Local\\Temp\\ipykernel_3244\\246680285.py\u001b[0m in \u001b[0;36m<module>\u001b[1;34m\u001b[0m\n\u001b[0;32m      6\u001b[0m     \u001b[0mres\u001b[0m \u001b[1;33m=\u001b[0m \u001b[0mx\u001b[0m\u001b[1;33m/\u001b[0m\u001b[0my\u001b[0m\u001b[1;33m\u001b[0m\u001b[1;33m\u001b[0m\u001b[0m\n\u001b[0;32m      7\u001b[0m \u001b[1;32mexcept\u001b[0m\u001b[1;33m:\u001b[0m\u001b[1;33m\u001b[0m\u001b[1;33m\u001b[0m\u001b[0m\n\u001b[1;32m----> 8\u001b[1;33m     \u001b[1;32mraise\u001b[0m \u001b[0mTypeError\u001b[0m\u001b[1;33m(\u001b[0m\u001b[1;34m\"Division by Zero\"\u001b[0m\u001b[1;33m)\u001b[0m\u001b[1;33m\u001b[0m\u001b[1;33m\u001b[0m\u001b[0m\n\u001b[0m",
      "\u001b[1;31mTypeError\u001b[0m: Division by Zero"
     ]
    }
   ],
   "source": [
    "# Example of raise\n",
    "\n",
    "x = 10\n",
    "y = 0\n",
    "try:\n",
    "    res = x/y\n",
    "except:\n",
    "    raise TypeError(\"Division by Zero\")"
   ]
  },
  {
   "cell_type": "markdown",
   "id": "6ade9c95",
   "metadata": {},
   "source": [
    "### Alternate:"
   ]
  },
  {
   "cell_type": "code",
   "execution_count": 1,
   "id": "8353c86a",
   "metadata": {},
   "outputs": [
    {
     "name": "stdout",
     "output_type": "stream",
     "text": [
      "An error occurred: Cannot divide by zero\n"
     ]
    }
   ],
   "source": [
    "def divide(a, b):\n",
    "    if b == 0:\n",
    "        raise ZeroDivisionError(\"Cannot divide by zero\")\n",
    "    return a / b\n",
    "\n",
    "try:\n",
    "    result = divide(10, 0)\n",
    "except ZeroDivisionError as e:\n",
    "    print(\"An error occurred:\", e)"
   ]
  },
  {
   "cell_type": "code",
   "execution_count": 14,
   "id": "f2bc8ff4",
   "metadata": {},
   "outputs": [
    {
     "ename": "AssertionError",
     "evalue": "2 is not equal to 4",
     "output_type": "error",
     "traceback": [
      "\u001b[1;31m---------------------------------------------------------------------------\u001b[0m",
      "\u001b[1;31mAssertionError\u001b[0m                            Traceback (most recent call last)",
      "\u001b[1;32m~\\AppData\\Local\\Temp\\ipykernel_3244\\2438911197.py\u001b[0m in \u001b[0;36m<module>\u001b[1;34m\u001b[0m\n\u001b[0;32m      2\u001b[0m \u001b[0mx\u001b[0m \u001b[1;33m=\u001b[0m \u001b[1;36m2\u001b[0m\u001b[1;33m\u001b[0m\u001b[1;33m\u001b[0m\u001b[0m\n\u001b[0;32m      3\u001b[0m \u001b[1;33m\u001b[0m\u001b[0m\n\u001b[1;32m----> 4\u001b[1;33m \u001b[1;32massert\u001b[0m\u001b[1;33m(\u001b[0m\u001b[0mx\u001b[0m\u001b[1;33m==\u001b[0m\u001b[1;36m4\u001b[0m\u001b[1;33m)\u001b[0m\u001b[1;33m,\u001b[0m \u001b[1;34mf\"{x} is not equal to 4\"\u001b[0m\u001b[1;33m\u001b[0m\u001b[1;33m\u001b[0m\u001b[0m\n\u001b[0m",
      "\u001b[1;31mAssertionError\u001b[0m: 2 is not equal to 4"
     ]
    }
   ],
   "source": [
    "# Example of assert\n",
    "x = 2\n",
    "\n",
    "assert(x==4), f\"{x} is not equal to 4\""
   ]
  },
  {
   "cell_type": "markdown",
   "id": "b6c4c55f",
   "metadata": {},
   "source": [
    "### Q5. Identify two methods for specifying actions to be executed at termination time, regardless of whether or not an exception exists.\n"
   ]
  },
  {
   "cell_type": "markdown",
   "id": "054daf21",
   "metadata": {},
   "source": [
    "Python Provides **`else`** and **`finally`** blocks for specifying actions to be executed at termination time, regardless of whether an exceptions exists or not."
   ]
  },
  {
   "cell_type": "code",
   "execution_count": 3,
   "id": "fd19a9f0",
   "metadata": {},
   "outputs": [
    {
     "name": "stdout",
     "output_type": "stream",
     "text": [
      "Division successful: 5.0\n"
     ]
    }
   ],
   "source": [
    "### ELSE-TRY:\n",
    "\n",
    "try:\n",
    "    result = 10 / 2\n",
    "except ZeroDivisionError:\n",
    "    print(\"Cannot divide by zero\")\n",
    "else:\n",
    "    print(\"Division successful:\", result)"
   ]
  },
  {
   "cell_type": "code",
   "execution_count": 4,
   "id": "a392916e",
   "metadata": {},
   "outputs": [
    {
     "name": "stdout",
     "output_type": "stream",
     "text": [
      "File not found.\n",
      "File closed, resources released.\n"
     ]
    }
   ],
   "source": [
    "### FINALLY-TRY\n",
    "\n",
    "file = None\n",
    "try:\n",
    "    file = open(\"example.txt\", \"r\")\n",
    "    content = file.read()\n",
    "    print(\"File content:\", content)\n",
    "except FileNotFoundError:\n",
    "    print(\"File not found.\")\n",
    "finally:\n",
    "    if file:\n",
    "        file.close()\n",
    "    print(\"File closed, resources released.\")"
   ]
  },
  {
   "cell_type": "code",
   "execution_count": null,
   "id": "5319ac8e",
   "metadata": {},
   "outputs": [],
   "source": []
  }
 ],
 "metadata": {
  "kernelspec": {
   "display_name": "Python 3 (ipykernel)",
   "language": "python",
   "name": "python3"
  },
  "language_info": {
   "codemirror_mode": {
    "name": "ipython",
    "version": 3
   },
   "file_extension": ".py",
   "mimetype": "text/x-python",
   "name": "python",
   "nbconvert_exporter": "python",
   "pygments_lexer": "ipython3",
   "version": "3.9.12"
  }
 },
 "nbformat": 4,
 "nbformat_minor": 5
}
