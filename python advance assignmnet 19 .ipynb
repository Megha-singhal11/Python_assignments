{
 "cells": [
  {
   "cell_type": "markdown",
   "id": "90af7f60",
   "metadata": {},
   "source": [
    "### Q1. Define the relationship between a class and its instances. Is it a one-to-one or a one-to-many partnership, for example?\n"
   ]
  },
  {
   "cell_type": "markdown",
   "id": "f2cfc4fa",
   "metadata": {},
   "source": [
    "**Ans:** Relationship between a class and its instances is a one to many partnership.\n",
    "\n",
    "For example, consider a class `Car`:\n",
    "\n",
    "```python\n",
    "class Car:\n",
    "    def __init__(self, make, model):\n",
    "        self.make = make\n",
    "        self.model = model\n",
    "\n",
    "    def start_engine(self):\n",
    "        print(f\"{self.make} {self.model}'s engine is starting.\")\n",
    "```\n",
    "\n",
    "In this case, the class `Car` defines the blueprint for creating car instances. Each car instance will have its own values for the `make` and `model` attributes, and it will share the `start_engine` method defined in the class.\n",
    "\n",
    "You can create multiple instances of the `Car` class:\n",
    "\n",
    "```python\n",
    "car1 = Car(\"Toyota\", \"Camry\")\n",
    "car2 = Car(\"Ford\", \"Mustang\")\n",
    "```\n",
    "\n",
    "Here, the class `Car` is the one side of the relationship, and `car1` and `car2` are instances on the many side of the relationship. Both `car1` and `car2` are separate objects created based on the `Car` class, and they each have their own distinct attributes and methods."
   ]
  },
  {
   "cell_type": "markdown",
   "id": "2183009f",
   "metadata": {},
   "source": [
    "### Q2. What kind of data is held only in an instance?\n"
   ]
  },
  {
   "cell_type": "markdown",
   "id": "4d192a33",
   "metadata": {},
   "source": [
    "**Ans:** Instance objects contains the Instance variables which are specific to that specific Instance object.\n",
    "\n",
    "Data that is held only in an instance of a class is typically referred to as instance-specific data or instance variables. These are attributes that are unique to each individual instance of a class and store information that pertains specifically to that instance. Instance-specific data is not shared among different instances of the same class; each instance maintains its own set of values for these attributes.\n",
    "\n",
    "For example, consider a class `Person`:\n",
    "\n",
    "```python\n",
    "class Person:\n",
    "    def __init__(self, name, age):\n",
    "        self.name = name   # Instance-specific attribute\n",
    "        self.age = age     # Instance-specific attribute\n",
    "\n",
    "    def introduce(self):\n",
    "        print(f\"Hi, I'm {self.name} and I'm {self.age} years old.\")\n",
    "```\n",
    "\n",
    "In this class, `name` and `age` are instance-specific attributes. Each instance of the `Person` class will have its own `name` and `age` values that are separate from the values of other instances.\n",
    "\n",
    "When you create instances of the `Person` class:\n",
    "\n",
    "```python\n",
    "person1 = Person(\"Alice\", 30)\n",
    "person2 = Person(\"Bob\", 25)\n",
    "```\n",
    "\n",
    "The `name` and `age` attributes are unique to each instance:\n",
    "\n",
    "- For `person1`, `name` is \"Alice\" and `age` is 30.\n",
    "- For `person2`, `name` is \"Bob\" and `age` is 25.\n",
    "\n",
    "Instance-specific data is useful for storing information that varies between different instances of the same class. It allows each instance to maintain its own state and behavior independently."
   ]
  },
  {
   "cell_type": "markdown",
   "id": "66c3b2f0",
   "metadata": {},
   "source": [
    "### Q3. What kind of knowledge is stored in a class?\n"
   ]
  },
  {
   "cell_type": "markdown",
   "id": "98a5de14",
   "metadata": {},
   "source": [
    "**Ans:** Class creates a user-defined data structure, which holds its own data members and member functions, which can be accessed and used by creating an instance of that class. A class is like a blueprint for an object."
   ]
  },
  {
   "cell_type": "markdown",
   "id": "8c7cbdd8",
   "metadata": {},
   "source": [
    "### Q4. What exactly is a method, and how is it different from a regular function?\n"
   ]
  },
  {
   "cell_type": "markdown",
   "id": "3d4c290a",
   "metadata": {},
   "source": [
    "**Ans:** The methods with a class can be used to access the insatnce variables of its instance. So,the object's state can be modified by its method. Function can't access the attributes of an instance of a class or can't modify the state of the object."
   ]
  },
  {
   "cell_type": "markdown",
   "id": "85302a57",
   "metadata": {},
   "source": [
    "### Q5. Is inheritance supported in Python, and if so, what is the syntax?\n"
   ]
  },
  {
   "cell_type": "markdown",
   "id": "e73725ce",
   "metadata": {},
   "source": [
    "Yes, inheritance is supported in Python, and it is a fundamental concept in object-oriented programming. Inheritance allows a class to inherit attributes and methods from another class, creating a hierarchy of classes with shared characteristics. The class that is being inherited from is called the parent class or base class, and the class that inherits from it is called the child class or derived class.\n",
    "\n",
    "The syntax for defining a derived class that inherits from a base class is as follows:\n",
    "\n",
    "```python\n",
    "class BaseClass:\n",
    "    # Base class attributes and methods\n",
    "\n",
    "class DerivedClass(BaseClass):\n",
    "    # Derived class attributes and methods\n",
    "```\n",
    "\n",
    "Here's a simple example:\n",
    "\n",
    "```python\n",
    "class Animal:\n",
    "    def speak(self):\n",
    "        pass\n",
    "\n",
    "class Dog(Animal):\n",
    "    def speak(self):\n",
    "        return \"Woof!\"\n",
    "\n",
    "class Cat(Animal):\n",
    "    def speak(self):\n",
    "        return \"Meow!\"\n",
    "```\n",
    "\n",
    "In this example, the `Animal` class is the base class, and the `Dog` and `Cat` classes are derived classes. Both `Dog` and `Cat` inherit the `speak` method from the `Animal` class, but each derived class can override the method to provide its own implementation.\n",
    "\n",
    "You can also check if a class is a subclass of another class using the `issubclass()` function or the `isinstance()` function to check if an object is an instance of a certain class."
   ]
  },
  {
   "cell_type": "markdown",
   "id": "88c33f69",
   "metadata": {},
   "source": [
    "The Types of Inheritence Supported by Python are:\n",
    "1. Simple Inheritence\n",
    "2. Multiple Inheritence\n",
    "3. Multilevel lInheritence\n",
    "4. Hybrid Inheritence\n",
    "5. Hierracial Inheritence"
   ]
  },
  {
   "cell_type": "code",
   "execution_count": 1,
   "id": "2398e089",
   "metadata": {},
   "outputs": [],
   "source": [
    "class Person:\n",
    "    def __init__(self, fname, lname):\n",
    "        self.first_name = fname\n",
    "        self.last_name = lname\n",
    "class Student(Person):\n",
    "    pass"
   ]
  },
  {
   "cell_type": "markdown",
   "id": "00033213",
   "metadata": {},
   "source": [
    "### Q6. How much encapsulation (making instance or class variables private) does Python support?\n"
   ]
  },
  {
   "cell_type": "markdown",
   "id": "21b144dd",
   "metadata": {},
   "source": [
    "**Ans:** Encapsulation describes the idea of wrapping data and the methods that work on data within one unit. This puts restrictions on accessing variables and methods directly and can prevent the accidental modification of data. To prevent accidental change, an objects variable can only be changed by an objects method."
   ]
  },
  {
   "cell_type": "markdown",
   "id": "95bee4ea",
   "metadata": {},
   "source": [
    "### Q7. How do you distinguish between a class variable and an instance variable?\n"
   ]
  },
  {
   "cell_type": "markdown",
   "id": "04a47167",
   "metadata": {},
   "source": [
    "**Ans:** The **`Class Attribute`** is available to all the instance objects of that class. whereas **`Instance Attributes`** are accessible only to the object or Instance of that class. \n",
    "\n",
    "A single copy of Class attributes is maintained by pvm at the class level. Whereas difference copies of instance attributes are maintained by pvm at objects/instance level."
   ]
  },
  {
   "cell_type": "markdown",
   "id": "46466fb6",
   "metadata": {},
   "source": [
    "### Q8. When, if ever, can self be included in a class's method definitions?\n"
   ]
  },
  {
   "cell_type": "markdown",
   "id": "dc30cc7d",
   "metadata": {},
   "source": [
    "**Ans:** Yes, self can included in class method definations to access the instance variables inside class methods."
   ]
  },
  {
   "cell_type": "markdown",
   "id": "d31d34b2",
   "metadata": {},
   "source": [
    "### Q9. What is the difference between the **`__add__`** and the **`__radd__`** methods ?\n"
   ]
  },
  {
   "cell_type": "markdown",
   "id": "affd339f",
   "metadata": {},
   "source": [
    "**Ans:** Entering **`__radd__`** Python will first try **`__add__()`**, and if that returns Not Implemented Python will check if the right-hand operand implements **`__radd__`**, and if it does, it will call **`__radd__()`** rather than raising a **`TypeError`**"
   ]
  },
  {
   "cell_type": "markdown",
   "id": "778eaa8f",
   "metadata": {},
   "source": [
    "### Q10. When is it necessary to use a reflection method? When do you not need it, even though you support the operation in question?\n"
   ]
  },
  {
   "cell_type": "markdown",
   "id": "bca7ccc2",
   "metadata": {},
   "source": [
    "**Ans:** Reflection method we often encounter the requirement that a method in the executing object, or a variable in the calling object, or a field of the object should be assigned, while the method name or field name can not be determined when encoding the code, and need to be input in the form of passing strings through parameters."
   ]
  },
  {
   "cell_type": "markdown",
   "id": "b8947561",
   "metadata": {},
   "source": [
    "### Q11. What is the `__iadd__` method called?\n"
   ]
  },
  {
   "cell_type": "markdown",
   "id": "9cf70e0d",
   "metadata": {},
   "source": [
    "**Ans:** **`__iadd__`** method is called when we use implementation like a+=b which is **`a.__iadd__(b)`**"
   ]
  },
  {
   "cell_type": "markdown",
   "id": "f9bb645a",
   "metadata": {},
   "source": [
    "### Q12. Is the `_ _init_ _` method inherited by subclasses? What do you do if you need to customize its behavior within a subclass ?\n"
   ]
  },
  {
   "cell_type": "markdown",
   "id": "28fe9adf",
   "metadata": {},
   "source": [
    "**Ans:** Yes, **`__init__`** method will be inherited by subclasses. if we want to customize its behaviour within a subclass we can use **`super()`** method."
   ]
  }
 ],
 "metadata": {
  "kernelspec": {
   "display_name": "Python 3 (ipykernel)",
   "language": "python",
   "name": "python3"
  },
  "language_info": {
   "codemirror_mode": {
    "name": "ipython",
    "version": 3
   },
   "file_extension": ".py",
   "mimetype": "text/x-python",
   "name": "python",
   "nbconvert_exporter": "python",
   "pygments_lexer": "ipython3",
   "version": "3.9.12"
  }
 },
 "nbformat": 4,
 "nbformat_minor": 5
}
