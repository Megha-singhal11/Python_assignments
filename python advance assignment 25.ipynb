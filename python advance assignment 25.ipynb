{
 "cells": [
  {
   "cell_type": "markdown",
   "id": "bb43a46e",
   "metadata": {},
   "source": [
    "### Q1. What is the distinction between a numpy array and a pandas data frame? Is there a way to convert between the two if there is ?\n",
    "**Ans:** \n",
    "#### Numpy Ndarray\n",
    "provides a lot of convenient and optimized methods for performing several mathematical operations on vectors. A NumPy array is a multi-dimensional container for homogeneous data.\n",
    "It provides fast, efficient storage and manipulation of numerical data.\n",
    "\n",
    "#### Pandas Dataframe \n",
    "is an in-memory 2-dimensional tabular representation of data. In simpler words, it can be seen as a spreadsheet having rows and columns. In other words, It provides a flexible and efficient way to store, manipulate, and analyze structured and tabular data.\n",
    "\n",
    "#### Conversion between NumPy Array and Pandas DataFrame:\n",
    "\n",
    "Yes, there is a way to convert between a NumPy array and a Pandas DataFrame. Here's a brief explanation:\n",
    "\n",
    "1. To convert a NumPy array to a Pandas DataFrame, you can use the pd.DataFrame() constructor by passing the NumPy array as an argument. \n",
    "2. To convert a Pandas DataFrame to a NumPy array, you can use the .to_numpy() method. This returns a NumPy array containing the DataFrame's data. "
   ]
  },
  {
   "cell_type": "markdown",
   "id": "24146fcb",
   "metadata": {},
   "source": [
    "### Q2. Identify some of the plotting techniques that are used to produce a stock-market chart ?\n",
    "**Ans:** stock market charts employ various plotting techniques such as ***line charts, candlestick charts, volume charts, moving averages, Bollinger Bands, RSI, MACD, and support/resistance levels to visualize price movements***, trends, and trading activity in the stock market."
   ]
  },
  {
   "cell_type": "markdown",
   "id": "f0fdf95b",
   "metadata": {},
   "source": [
    "### Q3. Why is it essential to print a legend on a stock market chart ?\n",
    "**Ans:** printing a legend on a stock market chart is essential to provide labels, aid data interpretation, enhance clarity, improve accessibility, facilitate effective communication, and comply with standards. It adds crucial information and context, allowing viewers to understand and interpret the chart accurately."
   ]
  },
  {
   "cell_type": "markdown",
   "id": "186d0d51",
   "metadata": {},
   "source": [
    "### Q4. What is the best way to limit the length of a pandas data frame to less than a year ?\n",
    "**Ans:** : We can use start and end parameters for that. In start we write the date from where we are starting and at the end we write the end date. SO within this span we can restric the duration.Also we can use the parameters like periods for how much times we need the duration and we can also use the frequency parameter.\n",
    "\n",
    "Ensure that the DataFrame has a column containing datetime values representing the dates.\n",
    "\n",
    "Convert the datetime column to a Pandas datetime type using pd.to_datetime if needed.\n",
    "\n",
    "Sort the DataFrame based on the datetime column to ensure the data is in chronological order.\n",
    "\n",
    "Calculate the date range for the desired time period. For example, if you want to limit it to less than a year, determine the start and end dates.\n",
    "\n",
    "Use boolean indexing to select the rows within the desired date range. You can use the datetime column and the start and end dates to create the boolean condition.\n",
    "\n",
    "Assign the filtered DataFrame back to the original variable or a new variable to keep the limited version."
   ]
  },
  {
   "cell_type": "raw",
   "id": "8f049d9d",
   "metadata": {},
   "source": [
    "### Example:\n",
    "import pandas as pd\n",
    "\n",
    "# Assuming your DataFrame is named 'df' and has a column named 'date' containing datetime values\n",
    "\n",
    "# Convert 'date' column to Pandas datetime if needed\n",
    "df['date'] = pd.to_datetime(df['date'])\n",
    "\n",
    "# Sort the DataFrame based on the 'date' column\n",
    "df = df.sort_values('date')\n",
    "\n",
    "# Calculate the date range for less than a year\n",
    "start_date = pd.to_datetime('2022-01-01')\n",
    "end_date = pd.to_datetime('2022-12-31')\n",
    "\n",
    "# Use boolean indexing to select rows within the desired date range\n",
    "filtered_df = df[(df['date'] >= start_date) & (df['date'] <= end_date)]\n",
    "\n",
    "# The 'filtered_df' DataFrame now contains data within the desired date range"
   ]
  },
  {
   "cell_type": "markdown",
   "id": "5805fa40",
   "metadata": {},
   "source": [
    "### Q5. What is the definition of a 180-day moving average ?\n",
    "**Ans:** : The 180-day moving average is represented as a line on charts and represents the average price over the past 180 days. The moving average can give traders a sense regarding whether the trend is up or down, while also identifying potential support or resistance areas.\n",
    "\n",
    "A moving average is a technique used to smooth out variations in a time series data.\n",
    "The 180-day moving average calculates the average value of the data over a rolling window of 180 days.\n",
    "At each data point, the moving average is recalculated by taking the average of the previous 180 data points.\n",
    "As new data points become available, the oldest data point in the window is dropped, and the newest data point is included in the calculation.\n",
    "The purpose of calculating a moving average is to identify trends and patterns in the data by reducing short-term fluctuations or noise.\n",
    "A 180-day moving average provides a longer-term view of the data, smoothing out short-term volatility and highlighting longer-term trends.\n",
    "It is commonly used in financial markets and technical analysis to assess the overall direction and momentum of a time series, such as stock prices or market indices."
   ]
  },
  {
   "cell_type": "code",
   "execution_count": null,
   "id": "04dc14eb",
   "metadata": {},
   "outputs": [],
   "source": []
  }
 ],
 "metadata": {
  "kernelspec": {
   "display_name": "Python 3 (ipykernel)",
   "language": "python",
   "name": "python3"
  },
  "language_info": {
   "codemirror_mode": {
    "name": "ipython",
    "version": 3
   },
   "file_extension": ".py",
   "mimetype": "text/x-python",
   "name": "python",
   "nbconvert_exporter": "python",
   "pygments_lexer": "ipython3",
   "version": "3.9.12"
  }
 },
 "nbformat": 4,
 "nbformat_minor": 5
}
