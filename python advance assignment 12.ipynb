{
 "cells": [
  {
   "cell_type": "markdown",
   "id": "d6d59be8",
   "metadata": {},
   "source": [
    "### Q1. Does assigning a value to a string's indexed character violate Python's string immutability ?\n"
   ]
  },
  {
   "cell_type": "markdown",
   "id": "199bff0e",
   "metadata": {},
   "source": [
    "**Yes**, assigning a value to a string's indexed character directly violates Python's string immutability. In Python, strings are immutable, which means their individual characters cannot be changed once the string is created. Any operation that appears to modify a string actually creates a new string with the desired changes. "
   ]
  },
  {
   "cell_type": "code",
   "execution_count": 1,
   "id": "ea8dca58",
   "metadata": {},
   "outputs": [
    {
     "name": "stdout",
     "output_type": "stream",
     "text": [
      "Immutable\n"
     ]
    }
   ],
   "source": [
    "text = \"immutable\"\n",
    "new_text = \"I\" + text[1:]  # Creating a new string with the first character changed\n",
    "print(new_text)  # Output: \"Immutable\""
   ]
  },
  {
   "cell_type": "markdown",
   "id": "97bb3413",
   "metadata": {},
   "source": [
    "### Q2. Does using the += operator to concatenate strings violate Python's string immutability? Why or why not ?\n"
   ]
  },
  {
   "cell_type": "markdown",
   "id": "414b72b6",
   "metadata": {},
   "source": [
    "**Ans:**  **`+=`** operator is used to concatenate strings, it does not violate Python’s string immutability Property. Because doing so new creates a new association with data and variable. E.g. `str_1=\"a\"` and `str_1+=\"b`. effect of this statements to create string `ab` and reassign it to variable `str_1`, any string data is not actually modified. "
   ]
  },
  {
   "cell_type": "code",
   "execution_count": 2,
   "id": "295b32ed",
   "metadata": {},
   "outputs": [
    {
     "name": "stdout",
     "output_type": "stream",
     "text": [
      "1935793837936\n",
      "1935877096688\n"
     ]
    }
   ],
   "source": [
    "str_1 = 'a'\n",
    "print(id(str_1))\n",
    "str_1 += 'b'\n",
    "print(id(str_1)) # Does not Modify existing string, Creates a New String Object"
   ]
  },
  {
   "cell_type": "markdown",
   "id": "a0fcb90c",
   "metadata": {},
   "source": [
    "### Q3. In Python, how many different ways are there to index a character?\n"
   ]
  },
  {
   "cell_type": "markdown",
   "id": "6a311e97",
   "metadata": {},
   "source": [
    "**Ans:** A Character in string can be indexed using string name followed by index number of character in square bracket.        **Positive Indexing** i.e. first index is 0 an so on, or **Negative Indexing** i.e. last letter is -1 and so on can be used to index a character"
   ]
  },
  {
   "cell_type": "code",
   "execution_count": 3,
   "id": "9f97c36f",
   "metadata": {},
   "outputs": [
    {
     "name": "stdout",
     "output_type": "stream",
     "text": [
      "u l e\n",
      "e i c\n"
     ]
    }
   ],
   "source": [
    "in_string = \"iNeuron Full Stack Data Science\"\n",
    "print(in_string[9],in_string[10],in_string[2]) # Positive Indexing\n",
    "print(in_string[-1],in_string[-5],in_string[-2]) # Negative Indexing"
   ]
  },
  {
   "cell_type": "markdown",
   "id": "54a2b240",
   "metadata": {},
   "source": [
    "### Q4. What is the relationship between indexing and slicing?\n"
   ]
  },
  {
   "cell_type": "markdown",
   "id": "08227d22",
   "metadata": {},
   "source": [
    "**Ans:** We can access elements of sequence datatypes by using slicing and indexing. Indexing is used to obtaining individual element while slicing for sequence of elements."
   ]
  },
  {
   "cell_type": "code",
   "execution_count": 4,
   "id": "a07ef752",
   "metadata": {},
   "outputs": [
    {
     "name": "stdout",
     "output_type": "stream",
     "text": [
      "N u o\n",
      "Neuron Full St\n"
     ]
    }
   ],
   "source": [
    "in_string = \"iNeuron Full Stack Data Science\"\n",
    "print(in_string[1],in_string[3],in_string[5]) # Indexing\n",
    "print(in_string[1:15]) # Slicing"
   ]
  },
  {
   "cell_type": "markdown",
   "id": "35a87e6f",
   "metadata": {},
   "source": [
    "### Q5. What is an indexed character's exact data type? What is the data form of a slicing-generated substring?\n"
   ]
  },
  {
   "cell_type": "markdown",
   "id": "3e7753dc",
   "metadata": {},
   "source": [
    "In Python, an **indexed character is represented as a string containing a single character**. The data type of an indexed character is therefore the same as that of a string, which is `str`.\n",
    "\n",
    "For example, consider the following code:\n",
    "\n",
    "```python\n",
    "my_string = \"Hello\"\n",
    "first_character = my_string[0]\n",
    "print(type(first_character))  # Output: <class 'str'>\n",
    "```\n",
    "\n",
    "In this example, `first_character` is assigned the value of the first character of the string `\"Hello\"`, which is `'H'`. The `type()` function confirms that `first_character` is of type `str`.\n",
    "\n",
    "Regarding slicing-generated substrings, they are also represented as strings. The data form of a slicing-generated substring is the same as any other string. Slicing a string creates a new string that contains a portion of the original string.\n",
    "\n",
    "For example:\n",
    "\n",
    "```python\n",
    "my_string = \"Hello\"\n",
    "substring = my_string[1:4]  # Slicing from index 1 to 3 (not including 4)\n",
    "print(substring)  # Output: \"ell\"\n",
    "print(type(substring))  # Output: <class 'str'>\n",
    "```\n",
    "\n",
    "In this example, `substring` is created by slicing the original string `\"Hello\"` from index 1 to 3 (excluding index 4). The result is the string `\"ell\"`, and the `type()` function confirms that `substring` is of type `str`.\n",
    "\n",
    "In summary, both indexed characters and slicing-generated substrings are represented as strings (`str` data type) in Python."
   ]
  },
  {
   "cell_type": "markdown",
   "id": "fd02655a",
   "metadata": {},
   "source": [
    "### Q6. What is the relationship between string and character \"types\" in Python?\n"
   ]
  },
  {
   "cell_type": "markdown",
   "id": "56a8bef0",
   "metadata": {},
   "source": [
    "**Ans:** In Python, there is a relationship between strings and characters, but it's important to note that Python does not have a separate \"character\" data type like some other programming languages. Instead, characters are represented as single-length strings. Let's explore this relationship:\n",
    "\n",
    "1. **Characters as Strings:** In Python, a character is essentially a string containing only one character. For example, `'a'` is a single-character string that represents the character 'a'. This means that a string containing a single character is treated the same way as a character.\n",
    "\n",
    "2. **String as a Sequence of Characters:** A string is a sequence of characters. This means that a string can contain zero or more characters. Each character within a string is actually a one-character string itself.\n",
    "\n",
    "   ```python\n",
    "   my_string = \"Hello\"  # A string\n",
    "   character_h = my_string[0]  # This is a string with a single character 'H'\n",
    "   ```\n",
    "\n",
    "3. **Indexing and Slicing:** You can access individual characters within a string using indexing, just like you would with elements in a sequence. Since characters are represented as strings, you use string indexing to access them.\n",
    "\n",
    "   ```python\n",
    "   my_string = \"Hello\"\n",
    "   first_character = my_string[0]  # Accessing the first character 'H'\n",
    "   ```\n",
    "\n",
    "4. **Iterating Over Characters:** You can iterate over the characters in a string using loops, treating each character as a single-character string.\n",
    "\n",
    "   ```python\n",
    "   my_string = \"Hello\"\n",
    "   for char in my_string:\n",
    "       print(char)  # This will print each character one by one\n",
    "   ```\n",
    "\n",
    "In summary, while Python does not have a distinct character data type, characters are effectively represented as single-character strings. Strings themselves are sequences of these single-character \"strings.\" This approach allows Python to treat characters and strings consistently, making it easy to work with text data in various contexts."
   ]
  },
  {
   "cell_type": "markdown",
   "id": "c73dc98e",
   "metadata": {},
   "source": [
    "### Q7. Identify at least two operators & one method that allow you to combine one or more smaller strings to create a larger string ?\n"
   ]
  },
  {
   "cell_type": "markdown",
   "id": "58671424",
   "metadata": {},
   "source": [
    "**Ans:** **`+`**, **`+=`** and **`*`** allow to combine one or more smaller strings to create a larger string. **`<string>.join(<sep>)`** method joins element of iterable type like list and tuple to get a combined string. "
   ]
  },
  {
   "cell_type": "code",
   "execution_count": 29,
   "id": "0f871593",
   "metadata": {},
   "outputs": [
    {
     "name": "stdout",
     "output_type": "stream",
     "text": [
      "iNeuron Full Stack Data Science FSDS\n",
      "FSDS FSDS FSDS \n",
      "I N E U R O N\n",
      "i n e u r o n\n"
     ]
    }
   ],
   "source": [
    "in_string = 'iNeuron '\n",
    "in_string += 'Full Stack Data Science'\n",
    "print(in_string + ' FSDS')\n",
    "print('FSDS '*3)\n",
    "print(\" \".join(['I','N','E','U','R','O','N'])) # List Iterable\n",
    "print(\" \".join(('I','N','E','U','R','O','N')).lower()) # Tuple Iterable"
   ]
  },
  {
   "cell_type": "markdown",
   "id": "843a5066",
   "metadata": {},
   "source": [
    "### Q8. What is the benefit of first checking the target string with in or not in before using the index method to find a substring ?\n"
   ]
  },
  {
   "cell_type": "markdown",
   "id": "bd31d12b",
   "metadata": {},
   "source": [
    "**Ans:** Checking the target string with **`in`** or **`not`** Operators before using the index method to find a  substring just helps confirming availability of substring and thus avoid raising of **`ValueError.`**  \n",
    "**`Example:`**    \n",
    "`in_string = \"ineuron\"`  \n",
    "`in_string.index('x') # Raises ValueError`  \n",
    "`in_string.index('u') # 3`  "
   ]
  },
  {
   "cell_type": "markdown",
   "id": "b77248c3",
   "metadata": {},
   "source": [
    "### Q9. Which operators and built-in string methods produce simple Boolean (true/false) results?\n"
   ]
  },
  {
   "cell_type": "markdown",
   "id": "c03c5687",
   "metadata": {},
   "source": [
    "**Ans:** The String Operators and built-in methods to Produce Simple Boolean (True/False) Results are:\n",
    "- **`in`**\n",
    "- **`not`**\n",
    "- **`<string>.isalpha()`**\n",
    "- **`<string>.isalnum()`**\n",
    "- **`<string>.isdecimal()`**\n",
    "- **`<string>.isdigit()`**\n",
    "- **`<string>.islower()`**\n",
    "- **`<string>.isnumeric()`**\n",
    "- **`<string>.isprintable()`**\n",
    "- **`<string>.isspace()`**\n",
    "- **`<string>.istitle()`**"
   ]
  }
 ],
 "metadata": {
  "kernelspec": {
   "display_name": "Python 3 (ipykernel)",
   "language": "python",
   "name": "python3"
  },
  "language_info": {
   "codemirror_mode": {
    "name": "ipython",
    "version": 3
   },
   "file_extension": ".py",
   "mimetype": "text/x-python",
   "name": "python",
   "nbconvert_exporter": "python",
   "pygments_lexer": "ipython3",
   "version": "3.9.12"
  }
 },
 "nbformat": 4,
 "nbformat_minor": 5
}
