{
 "cells": [
  {
   "cell_type": "markdown",
   "id": "91f50838",
   "metadata": {},
   "source": [
    "### Q1. What is the relationship between classes and modules?\n",
    "**Ans:**\n",
    "A module is a file containing Python code that can define classes, functions, and variables.   \n",
    "A module serves as a container for organizing related code and promoting code reusability.   \n",
    "Classes are a fundamental part of object-oriented programming and are often defined within modules.   \n",
    "A module can contain one or more classes, along with other code elements such as functions and variables.   \n",
    "Classes defined in a module can be imported and used in other modules or scripts.   \n",
    "Modules provide a way to organize and encapsulate related classes, allowing for better code organization and separation of concerns.   \n",
    "By importing modules, you can access and utilize the classes and other code elements defined within them.   "
   ]
  },
  {
   "cell_type": "markdown",
   "id": "92be3b82",
   "metadata": {},
   "source": [
    "### Q2. How do you make instances and classes?\n",
    "**Ans:** \n",
    "**Creating Instances:**\n",
    "\n",
    "Define a class by using the class keyword.\n",
    "Inside the class, define the __init__ method to initialize the instance attributes.\n",
    "To create an instance, call the class name as if it were a function, passing any required arguments to the __init__ method.\n",
    "The __init__ method will be automatically invoked, and a new instance object will be created.\n",
    "Assign the instance object to a variable to access and manipulate its attributes and methods.\n",
    "\n",
    "**Creating Classes:**\n",
    "\n",
    "Use the class keyword followed by the desired class name to define a new class.\n",
    "Inside the class, define attributes to represent data associated with instances and methods to define their behavior.\n",
    "Optionally, define a constructor method __init__ to initialize the attributes of an instance when it is created.\n",
    "Instantiate objects of the class by calling the class as if it were a function, optionally passing any necessary arguments to the constructor.\n",
    "Access and modify the attributes and invoke the methods of the class through the object instances.\n",
    "\n",
    "**Example:** `vishwak = employee('Male',20000)`, Here vishwak is an instance of class employee with attriubutes 'Male' and 20000.\n",
    "\n",
    "Whereas for creating a class, we use the **`Class`** keyword. Class keyword is followed by classname and semicolon.\n",
    "\n",
    "**Example:** Here Employee is a class created with `class` keyword with arguments gender and salary. \n",
    "\n",
    "`class Employee:\n",
    "    def __init__(self, gender,salary):\n",
    "        self.gender = gender\n",
    "        self.salary = salary`"
   ]
  },
  {
   "cell_type": "markdown",
   "id": "4cfb843c",
   "metadata": {},
   "source": [
    "### Q3. Where and how should be class attributes created?\n",
    "**Ans:** \n",
    "Class attributes are defined directly inside the class, outside of any method.  \n",
    "They are typically placed below the class declaration but above any methods.   \n",
    "Class attributes are created by assigning values to variables within the class scope.   \n",
    "Unlike instance attributes, class attributes are shared among all instances of the class.   \n",
    "Class attributes are accessible through both the class itself and its instances.   \n",
    "To access a class attribute, use the class name followed by the attribute name (e.g., ClassName.attribute).  \n",
    "Class attributes can be used to store data or constants that are common to all instances.   \n",
    "They can also be used as default values for instance attributes or to define shared behavior among instances.   \n",
    "\n",
    "**Example:** In the below code we are defining a class attribute called no_of_wheels which will be shared by all the instances of the class Car\n",
    "\n",
    "`class Car:\n",
    "    no_of_wheels = 4; # this is a class attribute\n",
    "    def __init__(self,color,price,engine):\n",
    "        self.color = color # All this are instance attributes\n",
    "        self.price = price\n",
    "        self.engine = engine`"
   ]
  },
  {
   "cell_type": "markdown",
   "id": "47c44e75",
   "metadata": {},
   "source": [
    "### Q4. Where and how are instance attributes created?\n",
    "**Ans:** \n",
    "Instance attributes are typically created within the __init__ method of a class.   \n",
    "The __init__ method is a special method that is automatically called when an instance of the class is created.   \n",
    "Inside the __init__ method, instance attributes are created by assigning values to variables using the self reference.   \n",
    "The self reference represents the instance itself and allows access to its attributes and methods.   \n",
    "Instance attributes can also be created and modified in other instance methods of the class.   \n",
    "Unlike class attributes, instance attributes are specific to each instance of the class.   \n",
    "Each instance maintains its own separate set of instance attributes.   \n",
    "Instance attributes can be accessed and modified using the self reference within the class's methods or through the instance objects.   \n",
    "\n",
    "**Example:** In the below sample code we are creating a class Car with instance varaibles color, price, engine, which will be provided when an instance of class Car is created.\n",
    "\n",
    "`class Car:\n",
    "    def __init__(self,color,price,engine):\n",
    "        self.color = color # All this are instance attributes\n",
    "        self.price = price\n",
    "        self.engine = engine`\n",
    "        \n",
    "`nexon_ev = Car('Indigo Blue', 1400000, 'electric')`  \n",
    "`safari = Car('Pearl White',2100000, 'petrol')`\n",
    "\n",
    "nexon_ev, safari are both the instances of class Car with different instance variables."
   ]
  },
  {
   "cell_type": "markdown",
   "id": "0ed28045",
   "metadata": {},
   "source": [
    "### Q5. What does the term \"self\" in a Python class mean?\n",
    "**Ans:** \n",
    "**`self`** is a conventional name used as the first parameter in methods of a class.   \n",
    "It is not a reserved keyword in Python but widely used to represent the instance object.   \n",
    "\"self\" is a reference to the instance that called the method.   \n",
    "It allows the method to access and manipulate the instance's attributes and methods.   \n",
    "By convention, the first parameter in a method is named \"self,\" but you can technically use any valid variable name.   \n",
    "\"self\" is automatically passed as the first argument to instance methods when they are called.   \n",
    "Using \"self\" allows different instances of the same class to have their own separate and independent data and behavior.    \n",
    "It enables instance-specific behavior and encapsulation of instance state.   "
   ]
  },
  {
   "cell_type": "code",
   "execution_count": 1,
   "id": "7864bf87",
   "metadata": {},
   "outputs": [
    {
     "name": "stdout",
     "output_type": "stream",
     "text": [
      "{'color': 'Indigo Blue', 'price': 1400000, 'engine': 'electric'}\n",
      "{'color': 'Pearl White', 'price': 2100000, 'engine': 'petrol'}\n"
     ]
    }
   ],
   "source": [
    "class Car:\n",
    "    def __init__(self,color,price,engine):\n",
    "        self.color = color # All this are instance attributes\n",
    "        self.price = price\n",
    "        self.engine = engine\n",
    "\n",
    "nexon_ev = Car('Indigo Blue', 1400000, 'electric')\n",
    "safari = Car('Pearl White',2100000, 'petrol')\n",
    "\n",
    "print(nexon_ev.__dict__)\n",
    "print(safari.__dict__)"
   ]
  },
  {
   "cell_type": "markdown",
   "id": "f58ed1f8",
   "metadata": {},
   "source": [
    "### Q6. How does a Python class handle operator overloading?\n",
    "**Ans:** Python Classes handle operator overloading by using special methods called **Magic methods**. these special methods usually begin and end with **`__`** (double underscore)  \n",
    "**Example:** Magic methods for basic arithmetic operators are:\n",
    "- `+ -> __add__()`\n",
    "- `- -> __sub__()`\n",
    "- `* -> __mul__()`\n",
    "- `/ -> __div__()`"
   ]
  },
  {
   "cell_type": "code",
   "execution_count": 2,
   "id": "60294cc1",
   "metadata": {},
   "outputs": [
    {
     "name": "stdout",
     "output_type": "stream",
     "text": [
      "The total number of pages in 2 books is 300\n"
     ]
    }
   ],
   "source": [
    "class Book:\n",
    "    def __init__(self,pages):\n",
    "        self.pages = pages\n",
    "    def __add__(self,other):\n",
    "        return self.pages + other.pages\n",
    "b1 = Book(100)\n",
    "b2 = Book(200)\n",
    "print(f'The total number of pages in 2 books is {b1+b2}')"
   ]
  },
  {
   "cell_type": "markdown",
   "id": "439d9d7e",
   "metadata": {},
   "source": [
    "### Q7. When do you consider allowing operator overloading of your classes?\n",
    "**Ans:**\n",
    "When the operations between instances of your class have a meaningful interpretation or natural mapping.   \n",
    "When it improves code readability, reusability and makes your class's behavior more intuitive.    \n",
    "When it aligns with the conventions and expectations of the users who will be working with your class.   \n",
    "When it simplifies and streamlines the usage of your class, reducing the need for explicit method calls or function invocations.\n",
    "When it provides consistency with other Python built-in types and encourages a more seamless integration with the language.\n",
    "When it can improve the overall design and usability of your class's API. "
   ]
  },
  {
   "cell_type": "markdown",
   "id": "0cd1ea24",
   "metadata": {},
   "source": [
    "### Q8. What is the most popular form of operator overloading?\n",
    "**Ans:** The most popular form of operator overloading in python is by special methods called **Magic methods**. Which usually beign and end with double underscore **`__<method name>__`**.\n",
    "\n",
    "1. Arithmetic operator overloading allows classes to define their behavior for arithmetic operations such as addition (+), subtraction (-), multiplication (*), division (/), and more.\n",
    "2. It enables instances of a class to perform arithmetic operations using the familiar operators.\n",
    "3. This form of operator overloading is commonly used for mathematical computations and manipulations.\n",
    "4. By overloading arithmetic operators, classes can define custom behavior that makes sense in their context.\n",
    "5. It enhances code readability and conciseness by allowing instances to be manipulated using standard arithmetic expressions.\n",
    "6. Arithmetic operator overloading is widely used in numeric types, such as integers, floats, and complex numbers, to provide expected arithmetic operations.\n",
    "7. It enables the use of arithmetic operators on custom-defined classes, making the code more expressive and flexible."
   ]
  },
  {
   "cell_type": "code",
   "execution_count": 1,
   "id": "f8444677",
   "metadata": {},
   "outputs": [
    {
     "name": "stdout",
     "output_type": "stream",
     "text": [
      "Sum -> 3\n",
      "String Concatenation -> hello world\n"
     ]
    }
   ],
   "source": [
    "class A:\n",
    "    def __init__(self,a):\n",
    "        self.a = a\n",
    "    def __add__(self,o):\n",
    "        return self.a+o.a\n",
    "obj1 = A(1)\n",
    "obj2 = A(2)\n",
    "obj3 = A('hello')\n",
    "obj4 = A(' world')\n",
    "print(f'Sum -> {obj1+obj2}')\n",
    "print(f'String Concatenation -> {obj3+obj4}')"
   ]
  },
  {
   "cell_type": "markdown",
   "id": "3ff6f7f0",
   "metadata": {},
   "source": [
    "### Q9. What are the two most important concepts to grasp in order to comprehend Python OOP code?\n",
    "**Ans:** **Classes** and **objects** are the two concepts to comprehend python OOP code as more formally objects are entities that represent instances of general abstract concept called class\n",
    "\n",
    "Along with classes and objects the important concepts to grasp are:\n",
    "1. Inheritence\n",
    "2. Abstraction\n",
    "3. Polymorphism\n",
    "4. Encapsulation"
   ]
  },
  {
   "cell_type": "code",
   "execution_count": null,
   "id": "a859ff75",
   "metadata": {},
   "outputs": [],
   "source": []
  }
 ],
 "metadata": {
  "kernelspec": {
   "display_name": "Python 3 (ipykernel)",
   "language": "python",
   "name": "python3"
  },
  "language_info": {
   "codemirror_mode": {
    "name": "ipython",
    "version": 3
   },
   "file_extension": ".py",
   "mimetype": "text/x-python",
   "name": "python",
   "nbconvert_exporter": "python",
   "pygments_lexer": "ipython3",
   "version": "3.9.12"
  }
 },
 "nbformat": 4,
 "nbformat_minor": 5
}
