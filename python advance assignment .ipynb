{
 "cells": [
  {
   "cell_type": "markdown",
   "id": "942401c5",
   "metadata": {},
   "source": [
    "#### Q1. What is the purpose of Python's OOP?\n",
    "**Ans:** Object-oriented programming is a programming paradigm that provides a means of structuring programs so that properties and behaviors are bundled into individual objects\n",
    "- In Python, object-oriented Programming (OOPs) uses objects and classes in programming. \n",
    "- It aims to implement real-world entities like inheritance, polymorphisms, encapsulation, etc. in the programming.\n",
    "- The main concept of OOPs is to bind the data and the functions that work on that together as a single unit so that no other part of the code can access this data. \n",
    "- It comes up with the following advantages:\n",
    "- It helps to divide our over all program into different small segments and thus making it solving easy with the use of objects\n",
    "- Helps in easy maintenance and modification of existing program\n",
    "- Multiple instances of an object can be made."
   ]
  },
  {
   "cell_type": "markdown",
   "id": "7cfcf3e9",
   "metadata": {},
   "source": [
    "#### Q2. Where does an inheritance search look for an attribute?\n",
    "**Ans:** The search starts from the instance itself.   \n",
    "If the attribute is not found in the instance, it continues to the class of the instance.   \n",
    "If the attribute is still not found in the class, the search proceeds to its parent classes in the order they are defined (based on the method resolution order, or MRO).   \n",
    "The search continues up the inheritance chain until the attribute is found or the end of the chain is reached.  \n",
    "If the attribute is not found in any of the classes or their parent classes, a AttributeError is raised."
   ]
  },
  {
   "cell_type": "markdown",
   "id": "096d7b0b",
   "metadata": {},
   "source": [
    "#### Q3. How do you distinguish between a class object and an instance object?\n",
    "**Ans:** The differences between a class object and an instance object are:   \n",
    "**Class Object:**\n",
    "\n",
    "Represents the blueprint or template for creating instances of a class.\n",
    "It is created when the class is defined.\n",
    "Defines the attributes and methods that instances of the class will have.\n",
    "Can be accessed directly through the class name.\n",
    "Can be used to create multiple instances of the class.\n",
    "\n",
    "**Instance Object:**\n",
    "\n",
    "Created by calling the class as if it were a function.\n",
    "Represents a specific occurrence or instantiation of a class.\n",
    "Possesses its own set of attributes and can have different values for those attributes compared to other instances of the same class.\n",
    "Each instance is a separate and independent entity.\n",
    "Can access attributes and methods defined in the class.\n",
    "Multiple instances of the same class can exist simultaneously."
   ]
  },
  {
   "cell_type": "markdown",
   "id": "fd8cc6bc",
   "metadata": {},
   "source": [
    "#### Q4. What makes the first argument in a class’s method function special?\n",
    "**Ans:** Python Classes usually have three types of methods which are:\n",
    "1. self is a reference to the instance object calling the method.\n",
    "2. It allows the method to access and manipulate the attributes and methods of the instance.\n",
    "3. When a method is called on an instance, Python automatically passes the instance object as the first argument to the method, and by convention, it is named self.\n",
    "4. The use of self enables instance-specific behavior and allows each instance to maintain its own state.\n",
    "5. Through self, methods can access and modify the instance's attributes, invoke other methods, and interact with the instance's data.\n",
    "6. It allows multiple instances of the same class to call the method, and each instance will have its own separate and independent self reference."
   ]
  },
  {
   "cell_type": "markdown",
   "id": "94de0426",
   "metadata": {},
   "source": [
    "#### Q5. What is the purpose of the __init__ method?\n",
    "**Ans:** **`__init__`** method is automatically called when an instance of a class is created.  \n",
    "It allows you to set the initial state of the object by initializing its attributes.   \n",
    "The __init__ method takes the instance itself (conventionally named self) as the first argument, followed by any additional arguments you want to pass when creating an instance.   \n",
    "Inside the __init__ method, you can assign values to instance attributes using the self reference.   \n",
    "By defining the __init__ method, you ensure that certain attributes are always present and properly initialized when creating new instances.   \n",
    "The __init__ method helps enforce consistency and prevents instances from being created without the necessary attributes.  "
   ]
  },
  {
   "cell_type": "markdown",
   "id": "3e47943f",
   "metadata": {},
   "source": [
    "#### Q6. What is the process for creating a class instance?\n",
    "**Ans:** Define a class by using the class keyword.  \n",
    "Inside the class, define the __init__ method to initialize the instance attributes.   \n",
    "To create an instance of the class, call the class name as if it were a function, passing any required arguments to the __init__ method.   \n",
    "The __init__ method will be automatically invoked, and a new instance object will be created.   \n",
    "The instance object is assigned to a variable, allowing you to access and manipulate its attributes and methods.   \n",
    "The instance object can be used to call the class's methods and access its attributes.   \n",
    "\n",
    "**Example:** **`fruits_list` = my_class(\"Mango\",\"orange\")`** Here `fruits_list` is an instance of class `my_class` with attributes \"Mango\" and \"orange\"."
   ]
  },
  {
   "cell_type": "markdown",
   "id": "8ddf33a9",
   "metadata": {},
   "source": [
    "#### Q7. What is the process for creating a class?\n",
    "**Ans:** **`class`** \n",
    "Use the class keyword followed by the class name to define the class.   \n",
    "Inside the class, define attributes to represent the data associated with instances of the class.   \n",
    "Define methods to define the behavior or actions that instances of the class can perform.  \n",
    "Optionally, define a constructor method __init__ to initialize the attributes of an instance when it is created.   \n",
    "Instantiate objects of the class by calling the class as if it were a function, optionally passing any necessary arguments to the constructor.   \n",
    "Access and modify the attributes and invoke the methods of the class through the object instances.   \n",
    "\n",
    "**Example:** **`class Car:`**  ➞  this creates a class called Car"
   ]
  },
  {
   "cell_type": "markdown",
   "id": "b58c55d6",
   "metadata": {},
   "source": [
    "#### Q8. How would you define the superclasses of a class?\n",
    "**Ans** Superclasses, also known as parent classes or base classes, are the classes from which a particular class inherits.   \n",
    "In the class definition, include the name of the superclass(es) in parentheses after the class name.   \n",
    "If there is only one superclass, use a single class name inside the parentheses.   \n",
    "If there are multiple superclasses, separate their names with commas inside the parentheses.   \n",
    "The class will inherit attributes and methods from its superclasses, allowing it to reuse and extend their functionality.   \n",
    "Inheritance follows an order called the Method Resolution Order (MRO), which determines the sequence in which superclasses are checked when resolving attribute or method lookups.   \n",
    "The MRO is determined automatically by Python, but you can explicitly define it using the super() function or by using inheritance from multiple superclasses.   \n",
    "By inheriting from superclasses, a class can access and override their methods, add new methods or attributes specific to itself, and benefit from code reuse.  \n",
    "\n",
    "**Example:** `class Employee(Person):` Here child class `Employee` inherits attributes and methofs from Superclass/Parent `Person`"
   ]
  },
  {
   "cell_type": "code",
   "execution_count": null,
   "id": "89fd1531",
   "metadata": {},
   "outputs": [],
   "source": []
  }
 ],
 "metadata": {
  "kernelspec": {
   "display_name": "Python 3 (ipykernel)",
   "language": "python",
   "name": "python3"
  },
  "language_info": {
   "codemirror_mode": {
    "name": "ipython",
    "version": 3
   },
   "file_extension": ".py",
   "mimetype": "text/x-python",
   "name": "python",
   "nbconvert_exporter": "python",
   "pygments_lexer": "ipython3",
   "version": "3.9.12"
  }
 },
 "nbformat": 4,
 "nbformat_minor": 5
}
