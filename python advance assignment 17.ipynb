{
 "cells": [
  {
   "cell_type": "markdown",
   "id": "20cb4cf5",
   "metadata": {},
   "source": [
    "### Q1. Explain the difference between greedy and non-greedy syntax with visual terms in as few words as possible. What is the bare minimum effort required to transform a greedy pattern into a non-greedy one? What characters or characters can you introduce or change?\n"
   ]
  },
  {
   "cell_type": "markdown",
   "id": "eaf5c34c",
   "metadata": {},
   "source": [
    "The Main difference between Greedy and Non Greedy Match Syntax is The Greedy Match will try to match as many repetitions of the quantified pattern as possible Whereas The Non Greedy Match will try to match as few repetitions of the quantified pattern as possible"
   ]
  },
  {
   "cell_type": "code",
   "execution_count": 1,
   "id": "3bff2ec8",
   "metadata": {},
   "outputs": [
    {
     "name": "stdout",
     "output_type": "stream",
     "text": [
      "['vvvvvv', '']\n",
      "['', 'v', '', 'v', '', 'v', '', 'v', '', 'v', '', 'v', '']\n"
     ]
    }
   ],
   "source": [
    "import re\n",
    "print(re.findall(\"v*\", \"vvvvvv\")) # Greedy Match Synatx\n",
    "print(re.findall(\"v*?\", \"vvvvvv\")) # Non Greddy Syntax"
   ]
  },
  {
   "cell_type": "markdown",
   "id": "7acdf693",
   "metadata": {},
   "source": [
    "### Q2. When exactly does greedy versus non-greedy make a difference?  What if you're looking for a non-greedy match but the only one available is greedy?\n"
   ]
  },
  {
   "cell_type": "markdown",
   "id": "fa8e7bba",
   "metadata": {},
   "source": [
    "**Greedy versus non-greedy** matching makes a difference when you are dealing with patterns that have multiple occurrences of a character or group within a larger text. Greedy matching tries to match as much as possible, potentially spanning across multiple occurrences, while non-greedy (also known as lazy or reluctant) matching tries to match as little as possible, stopping at the earliest possible occurrence.\n",
    "\n",
    "For example, consider the text: `\"abc123abc456abc\"`. If you want to extract the substrings between `\"abc\"` and `\"abc\"`, using greedy matching would result in a single match: `\"123abc456\"`, because the greedy behavior matches as much as possible.\n",
    "\n",
    "\n",
    "**Using non-greedy matching** , you would get three separate matches: `\"123\"`, `\"456\"`, and an empty string `\"\"` between the last two occurrences of `\"abc\"`.\n",
    "\n",
    "For example, given the pattern `.*` (greedy) that matches everything, you can make it non-greedy by changing it to `.*?`.\n"
   ]
  },
  {
   "cell_type": "markdown",
   "id": "b32f8573",
   "metadata": {},
   "source": [
    "### Q3. In a simple match of a string, which looks only for one match and does not do any replacement, is the use of a nontagged group likely to make any practical difference?\n"
   ]
  },
  {
   "cell_type": "markdown",
   "id": "950e7366",
   "metadata": {},
   "source": [
    "In a simple match of a string where you're only looking for one match and not doing any replacement, the use of a non-capturing group (a group without a capturing tag) is unlikely to make a practical difference. The choice between a capturing group and a non-capturing group mainly affects what is stored in the match object and doesn't have a significant impact on the outcome of the match itself."
   ]
  },
  {
   "cell_type": "code",
   "execution_count": 2,
   "id": "8dd550ee",
   "metadata": {},
   "outputs": [
    {
     "name": "stdout",
     "output_type": "stream",
     "text": [
      "test\n",
      "test\n"
     ]
    }
   ],
   "source": [
    "import re\n",
    "\n",
    "text = \"This is a test.\"\n",
    "\n",
    "# Non-capturing group (?:)\n",
    "non_capturing_pattern = r\"(?:test)\"\n",
    "match_non_capturing = re.search(non_capturing_pattern, text)\n",
    "print(match_non_capturing.group())  # Output: \"test\"\n",
    "\n",
    "# Capturing group ()\n",
    "capturing_pattern = r\"(test)\"\n",
    "match_capturing = re.search(capturing_pattern, text)\n",
    "print(match_capturing.group(1))  # Output: \"test\""
   ]
  },
  {
   "cell_type": "code",
   "execution_count": 3,
   "id": "28393a95",
   "metadata": {},
   "outputs": [
    {
     "name": "stdout",
     "output_type": "stream",
     "text": [
      "Phone number found -> 234\n",
      "Phone number found -> 234\n"
     ]
    }
   ],
   "source": [
    "import re\n",
    "phoneNumRegex = re.compile(r'\\d\\d\\d')\n",
    "num = phoneNumRegex.search('My number is 234-567-8901.')\n",
    "print(f'Phone number found -> {num.group()}') # Non Tagged group\n",
    "print(f'Phone number found -> {num.group(0)}') # Tagged Group"
   ]
  },
  {
   "cell_type": "markdown",
   "id": "d3231349",
   "metadata": {},
   "source": [
    "### Q4. Describe a scenario in which using a nontagged category would have a significant impact on the program's outcomes ?\n"
   ]
  },
  {
   "cell_type": "markdown",
   "id": "610422d1",
   "metadata": {},
   "source": [
    "Non-tagged categories, also known as non-capturing groups, can have a significant impact on program outcomes in scenarios where you're using regular expressions for advanced pattern matching, extraction, or replacement. While non-capturing groups don't affect the matched content itself, they play a crucial role in controlling how quantifiers and alternation operate within a pattern."
   ]
  },
  {
   "cell_type": "code",
   "execution_count": 4,
   "id": "94ebcc65",
   "metadata": {},
   "outputs": [
    {
     "data": {
      "text/plain": [
       "('135', '456')"
      ]
     },
     "execution_count": 4,
     "metadata": {},
     "output_type": "execute_result"
    }
   ],
   "source": [
    "import re\n",
    "text='135.456'\n",
    "pattern=r'(\\d+)(?:.)(\\d+)'\n",
    "regobj=re.compile(pattern)\n",
    "matobj=regobj.search(text)\n",
    "matobj.groups()"
   ]
  },
  {
   "cell_type": "markdown",
   "id": "6d82885a",
   "metadata": {},
   "source": [
    "### Q5. Unlike a normal regex pattern, a look-ahead condition does not consume the characters it examines. Describe a situation in which this could make a difference in the results of your programme ?\n"
   ]
  },
  {
   "cell_type": "markdown",
   "id": "628ef3a6",
   "metadata": {},
   "source": [
    "While counting the number of multiple lines or mutiple sentence in a string the positive look ahead makes a difference, without which we wont get the correct count of lines or sentences in a string.\n",
    "\n",
    "A look-ahead condition in a regular expression is a zero-width assertion that checks if a certain pattern is present ahead in the text without actually consuming the characters it examines. This can make a difference in program outcomes when you want to match or exclude patterns based on their context without altering the actual match position.\n",
    "\n",
    "If you were to use a normal regex pattern without a look-ahead, the pattern would consume characters while trying to match, potentially altering the position for further matching. Using a look-ahead ensures that the validation check doesn't change the position of the match in the text, making it suitable for scenarios where you need to examine the context without affecting the actual match position."
   ]
  },
  {
   "cell_type": "markdown",
   "id": "c1e9b03b",
   "metadata": {},
   "source": [
    "### Q6. In standard expressions, what is the difference between positive look-ahead and negative look-ahead ?\n"
   ]
  },
  {
   "cell_type": "markdown",
   "id": "7f0f4478",
   "metadata": {},
   "source": [
    "In regular expressions, both positive look-ahead and negative look-ahead are types of look-ahead assertions that allow you to check for specific patterns ahead in the text without actually consuming any characters. The main difference between them lies in what they assert about the presence or absence of the pattern.\n",
    "\n",
    "1. **Positive Look-Ahead (`(?=...)`):**\n",
    "   Positive look-ahead asserts that a certain pattern must be present ahead in the text for a match to occur. It's used when you want to ensure that a specific condition is met in the text without including the matched content in the final result.\n",
    "\n",
    "   For example, the pattern `a(?=b)` will match the letter 'a' only if it is followed by the letter 'b', but the 'b' itself won't be part of the matched result.\n",
    "\n",
    "2. **Negative Look-Ahead (`(?!...)`):**\n",
    "   Negative look-ahead asserts that a certain pattern must not be present ahead in the text for a match to occur. It's used when you want to ensure that a specific condition is not met in the text.\n",
    "\n",
    "   For example, the pattern `a(?!b)` will match the letter 'a' only if it is not followed by the letter 'b'. If 'b' is found after 'a', the match will fail.\n",
    "   \n",
    "   **Positive Look-Ahead (`(?=...)`):**\n",
    "```\n",
    "Original Text: abcd\n",
    "Pattern: a(?=b)\n",
    "Match: a (asserts that 'a' is followed by 'b')\n",
    "```\n",
    "\n",
    "   **Negative Look-Ahead (`(?!...)`):**\n",
    "```\n",
    "Original Text: abcd\n",
    "Pattern: a(?!b)\n",
    "Match: a (asserts that 'a' is NOT followed by 'b')\n",
    "```"
   ]
  },
  {
   "cell_type": "markdown",
   "id": "aa72dab9",
   "metadata": {},
   "source": [
    "### Q7. What is the benefit of referring to groups by name rather than by number in a standard expression?\n"
   ]
  },
  {
   "cell_type": "markdown",
   "id": "f144afcb",
   "metadata": {},
   "source": [
    "Referring to groups by name rather than by number in a regular expression provides several benefits that improve code readability, maintainability, and flexibility:\n",
    "\n",
    "1. **Readability:**\n",
    "   Naming groups makes the regular expression more self-explanatory. Instead of relying on numeric indices, named groups provide meaningful labels that convey the purpose of each captured part of the match.\n",
    "\n",
    "2. **Documentation:**\n",
    "   Named groups act as a form of inline documentation for your regular expression. By using descriptive names, you provide clear context for what each captured group represents.\n",
    "\n",
    "3. **Maintenance:**\n",
    "   When modifying the regular expression, using named groups makes it less error-prone. If the order or number of capturing groups changes, you don't need to update the code that references the groups by name.\n",
    "\n",
    "4. **Flexibility:**\n",
    "   Named groups allow you to rearrange the order of capturing groups without affecting code that relies on those groups by name. This provides more flexibility when refining or evolving your regular expression.\n",
    "\n",
    "5. **Self-Documenting Code:**\n",
    "   Named groups make the code more self-documenting by showing the intent of the captured content. This can improve collaboration and make the code easier to understand for other developers.\n",
    "\n",
    "6. **Dynamic Group Referencing:**\n",
    "   Named groups allow you to refer to groups dynamically based on their names. This can be particularly useful when processing multiple regular expressions or when generating patterns programmatically.\n",
    "\n",
    "**Example**\n",
    "\n",
    "```python\n",
    "import re\n",
    "\n",
    "text = \"John Doe, Age: 30\"\n",
    "\n",
    "# Using named groups for readability and flexibility\n",
    "pattern = r\"(?P<name>\\w+\\s\\w+), Age: (?P<age>\\d+)\"\n",
    "match = re.match(pattern, text)\n",
    "\n",
    "if match:\n",
    "    name = match.group(\"name\")\n",
    "    age = match.group(\"age\")\n",
    "    print(f\"Name: {name}, Age: {age}\")\n",
    "```\n",
    "\n",
    "In this example, named groups (`(?P<name>...)` and `(?P<age>...)`) are used to capture the name and age from the text. When accessing the captured groups, the code is self-explanatory and less prone to errors. This approach also allows you to rearrange the order of capturing groups without affecting the code that uses named references."
   ]
  },
  {
   "cell_type": "markdown",
   "id": "6dbbaa72",
   "metadata": {},
   "source": [
    "### Q8. Can you identify repeated items within a target string using named groups, as in \"The cow jumped over the moon\"?"
   ]
  },
  {
   "cell_type": "markdown",
   "id": "9e494103",
   "metadata": {},
   "source": [
    "Yes, you can use named capturing groups in a regular expression to identify repeated items within a target string. However, please note that named capturing groups are typically used to capture and extract specific parts of the matched text, not to identify repeated patterns in a more general sense."
   ]
  },
  {
   "cell_type": "code",
   "execution_count": 6,
   "id": "fc4b53a8",
   "metadata": {},
   "outputs": [
    {
     "data": {
      "text/plain": [
       "['The', 'the']"
      ]
     },
     "execution_count": 6,
     "metadata": {},
     "output_type": "execute_result"
    }
   ],
   "source": [
    "import re\n",
    "text = \"The cow jumped over the moon\"\n",
    "regobj=re.compile(r'(?P<w1>The)',re.I)\n",
    "regobj.findall(text)"
   ]
  },
  {
   "cell_type": "markdown",
   "id": "fca244ba",
   "metadata": {},
   "source": [
    "### Q9. When parsing a string, what is at least one thing that the Scanner interface does for you that the re.findall feature does not ?\n"
   ]
  },
  {
   "cell_type": "markdown",
   "id": "15db10bd",
   "metadata": {},
   "source": [
    "**Ans:** **`re.findall()`** module is used to search for **`all`** occurrences that match a given pattern. In contrast, **`re.search()`** will only return the first occurrence that matches the specified pattern. **`re.findall()`** will iterate over all the lines of the file and will return all non-overlapping matches of pattern in a single step."
   ]
  },
  {
   "cell_type": "markdown",
   "id": "a677ebb9",
   "metadata": {},
   "source": [
    "### Q10. Does a scanner object have to be named scanner?\n"
   ]
  },
  {
   "cell_type": "markdown",
   "id": "1fa5a16e",
   "metadata": {},
   "source": [
    "No, a scanner object does not have to be named \"scanner.\" In fact, you can name a scanner object anything you prefer, as long as the name follows the rules for naming variables in the programming language you're using.\n",
    "\n",
    "A scanner object is typically an instance of a class provided by a programming language or a library that allows you to read input data, such as text or tokens, from a source (like the keyboard or a file). The name you give to the scanner object is up to you and should reflect the purpose and context of its use in your code."
   ]
  }
 ],
 "metadata": {
  "kernelspec": {
   "display_name": "Python 3 (ipykernel)",
   "language": "python",
   "name": "python3"
  },
  "language_info": {
   "codemirror_mode": {
    "name": "ipython",
    "version": 3
   },
   "file_extension": ".py",
   "mimetype": "text/x-python",
   "name": "python",
   "nbconvert_exporter": "python",
   "pygments_lexer": "ipython3",
   "version": "3.9.12"
  }
 },
 "nbformat": 4,
 "nbformat_minor": 5
}
