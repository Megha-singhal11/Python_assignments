{
 "cells": [
  {
   "cell_type": "markdown",
   "id": "3c240f70",
   "metadata": {},
   "source": [
    "### 1.\tWhat are the new features added in Python 3.8 version?\n"
   ]
  },
  {
   "cell_type": "markdown",
   "id": "e0a27955",
   "metadata": {},
   "source": [
    "Python 3.8 introduced several new features and improvements. Here are some of the notable additions:\n",
    "\n",
    "1. **Assignment Expressions (the \"walrus operator\"):**\n",
    "   This feature allows you to assign a value to a variable as part of an expression. It's denoted by the `:=` syntax. It's particularly useful in list comprehensions and while working with conditions.\n",
    "\n",
    "2. **Positional-Only Parameters:**\n",
    "   Python 3.8 introduced the ability to define positional-only parameters in function signatures using the `/` syntax. This allows you to specify that certain parameters can only be passed using positional arguments.\n",
    "\n",
    "3. **f-strings Improvements:**\n",
    "   Python 3.8 extended f-strings with the \"=`\" option, which allows you to include the variable's repr() in the string, aiding in debugging.\n",
    "\n",
    "4. **New Syntax Warning:**\n",
    "   Python 3.8 introduced a new `SyntaxWarning` for cases where you use a backslash to continue a statement across multiple lines. This is to discourage the use of backslashes for line continuation.\n",
    "\n",
    "5. **Math Functions Improvements:**\n",
    "   The `math` module was extended with new functions like `math.isqrt()` for computing the integer square root and `math.prod()` for computing the product of iterable elements.\n",
    "\n",
    "6. **New Syntax Features:**\n",
    "   Python 3.8 introduced the `=` syntax to indicate that a function parameter is intended to be a keyword-only argument.\n",
    "\n",
    "7. **TypedDict:**\n",
    "   The `typing` module introduced `TypedDict`, a type that represents a dictionary with a fixed set of keys and specific value types.\n",
    "\n",
    "8. **__future__ Annotations:**\n",
    "   The `__future__` module was updated to provide better compatibility for forward annotations (PEP 563), which allow you to use string literals as type annotations.\n",
    "\n",
    "9. **Other Improvements:**\n",
    "   Python 3.8 also brought performance improvements, security enhancements, and various optimizations. It included updates to the standard library, the addition of new modules, and enhancements to existing ones."
   ]
  },
  {
   "cell_type": "code",
   "execution_count": 1,
   "id": "eee7d53e",
   "metadata": {},
   "outputs": [
    {
     "name": "stderr",
     "output_type": "stream",
     "text": [
      "<>:26: SyntaxWarning: 'tuple' object is not callable; perhaps you missed a comma?\n",
      "<>:26: SyntaxWarning: 'tuple' object is not callable; perhaps you missed a comma?\n",
      "C:\\Users\\Hp\\AppData\\Local\\Temp\\ipykernel_8220\\949561155.py:26: SyntaxWarning: 'tuple' object is not callable; perhaps you missed a comma?\n",
      "  r_list = [(1,2) (3,4)]\n"
     ]
    },
    {
     "name": "stdout",
     "output_type": "stream",
     "text": [
      "15\n",
      "('Hello', 'Good Morning')\n",
      "(0, 0) (1, 1) (2, 4) (3, 9) (4, 16) \n",
      "Role:\"Data Scientist\"\n",
      "Name:\"Mano Vishnu\"\n",
      "The length of string is len_string = 31\n"
     ]
    },
    {
     "name": "stderr",
     "output_type": "stream",
     "text": [
      "C:\\Users\\Hp\\AppData\\Local\\Temp\\ipykernel_8220\\949561155.py:26: SyntaxWarning: 'tuple' object is not callable; perhaps you missed a comma?\n",
      "  r_list = [(1,2) (3,4)]\n",
      "C:\\Users\\Hp\\AppData\\Local\\Temp\\ipykernel_8220\\949561155.py:26: SyntaxWarning: 'tuple' object is not callable; perhaps you missed a comma?\n",
      "  r_list = [(1,2) (3,4)]\n"
     ]
    },
    {
     "ename": "TypeError",
     "evalue": "'tuple' object is not callable",
     "output_type": "error",
     "traceback": [
      "\u001b[1;31m---------------------------------------------------------------------------\u001b[0m",
      "\u001b[1;31mTypeError\u001b[0m                                 Traceback (most recent call last)",
      "Input \u001b[1;32mIn [1]\u001b[0m, in \u001b[0;36m<cell line: 26>\u001b[1;34m()\u001b[0m\n\u001b[0;32m     23\u001b[0m \u001b[38;5;28mprint\u001b[39m(\u001b[38;5;124mf\u001b[39m\u001b[38;5;124m'\u001b[39m\u001b[38;5;124mThe length of string is \u001b[39m\u001b[38;5;132;01m{\u001b[39;00mlen_string \u001b[38;5;132;01m= }\u001b[39;00m\u001b[38;5;124m'\u001b[39m)\n\u001b[0;32m     25\u001b[0m \u001b[38;5;66;03m# Example of Infomrative syntax instead of synatx error while missing comma.\u001b[39;00m\n\u001b[1;32m---> 26\u001b[0m r_list \u001b[38;5;241m=\u001b[39m [\u001b[43m(\u001b[49m\u001b[38;5;241;43m1\u001b[39;49m\u001b[43m,\u001b[49m\u001b[38;5;241;43m2\u001b[39;49m\u001b[43m)\u001b[49m\u001b[43m \u001b[49m\u001b[43m(\u001b[49m\u001b[38;5;241;43m3\u001b[39;49m\u001b[43m,\u001b[49m\u001b[38;5;241;43m4\u001b[39;49m\u001b[43m)\u001b[49m]\n",
      "\u001b[1;31mTypeError\u001b[0m: 'tuple' object is not callable"
     ]
    }
   ],
   "source": [
    "# Example of Walrus Operator\n",
    "if (sum := 10 + 5) > 10: # its always recommended to use paranthesis with walrus operator\n",
    "    print(sum) #return 15 \n",
    "\n",
    "# Example of yield and return\n",
    "def hello():\n",
    "    return 'Hello','Good Morning'\n",
    "print(hello())\n",
    "def count():\n",
    "    for i in range(5):\n",
    "        yield i,i**2\n",
    "for ele in count():\n",
    "    print(ele, end=\" \")\n",
    "print()\n",
    "    \n",
    "# Example of Reversed Support for dict\n",
    "t_dict = {\"Name\":\"Mano Vishnu\",\"Role\":\"Data Scientist\"}\n",
    "for ele in reversed(t_dict):\n",
    "    print(f'{ele}:\"{t_dict[ele]}\"')\n",
    "    \n",
    "# Example of using = in F-strings\n",
    "len_string = len(\"Ineuron Full Stack Data Science\")\n",
    "print(f'The length of string is {len_string = }')\n",
    "\n",
    "# Example of Infomrative syntax instead of synatx error while missing comma.\n",
    "r_list = [(1,2) (3,4)]"
   ]
  },
  {
   "cell_type": "markdown",
   "id": "d3363458",
   "metadata": {},
   "source": [
    "### 2.\tWhat is monkey patching in Python?\n"
   ]
  },
  {
   "cell_type": "markdown",
   "id": "8dfb42b1",
   "metadata": {},
   "source": [
    "Monkey patching in Python refers to the practice of dynamically modifying or extending the behavior of existing modules, classes, or functions at runtime. It involves making changes to code that was not originally authored by you, often by adding, modifying, or overriding attributes or methods. The term \"monkey patching\" implies making changes in a playful or casual manner, and it can be both powerful and risky.\n",
    "\n",
    "\n",
    "Suppose you have an existing class `Person` with a method `greet()`:\n",
    "\n",
    "```python\n",
    "class Person:\n",
    "    def greet(self):\n",
    "        return \"Hello, I'm a person!\"\n",
    "```\n",
    "\n",
    "```python\n",
    "def custom_greet(self):  ## adding a custom message in greet\n",
    "    return \"Hey there, I've been monkey-patched!\"\n",
    "\n",
    "Person.greet = custom_greet\n",
    "```\n",
    "\n",
    "```python\n",
    "person = Person()\n",
    "print(person.greet())  # Output: \"Hey there, I've been monkey-patched!\"\n",
    "```\n",
    "\n",
    "Changes made through monkey patching can make code harder to understand, debug, and maintain, so consider alternative approaches like subclassing, composition, or using Python's built-in features for customization before resorting to monkey patching."
   ]
  },
  {
   "cell_type": "markdown",
   "id": "668309b7",
   "metadata": {},
   "source": [
    "### 3.\tWhat is the difference between a shallow copy and deep copy?\n"
   ]
  },
  {
   "cell_type": "markdown",
   "id": "02daa5a1",
   "metadata": {},
   "source": [
    "**Ans:** The Differences between a Shallow Copy and deep copy are as follows: \n",
    "\n",
    "When an object is copied using **`copy()`**, it is called **shallow copy** as changes made in copied object will also make corresponding changes in original object, because both the objects\n",
    "will be referencing same address location. \n",
    "\n",
    "\n",
    "   ```python\n",
    "   import copy\n",
    "   \n",
    "   original_list = [[1, 2, 3], [4, 5, 6]]\n",
    "   shallow_copied_list = copy.copy(original_list)\n",
    "   ```\n",
    "\n",
    "In this example, a shallow copy of `original_list` is created. Both `original_list` and `shallow_copied_list` will reference the same nested lists `[1, 2, 3]` and `[4, 5, 6]`.\n",
    "\n",
    "\n",
    "\n",
    "\n",
    "When an object is copied using **`deepcopy()`**, it is called **deep copy** as changes made in copied object will not make corresponding changes in original object, because both the objects will not be referencing same address location. \n",
    "   ```python\n",
    "   import copy\n",
    "   \n",
    "   original_list = [[1, 2, 3], [4, 5, 6]]\n",
    "   deep_copied_list = copy.deepcopy(original_list)\n",
    "   ```\n",
    "\n",
    "   In this example, a deep copy of `original_list` is created. The nested lists `[1, 2, 3]` and `[4, 5, 6]` within the `deep_copied_list` are completely independent from the original nested lists.\n",
    "\n",
    "\n",
    "Both shallow copy and deep copy are techniques used to duplicate objects in Python, but they differ in how they handle nested objects and references."
   ]
  },
  {
   "cell_type": "markdown",
   "id": "225eb77b",
   "metadata": {},
   "source": [
    "### 4.\tWhat is the maximum possible length of an identifier?\n"
   ]
  },
  {
   "cell_type": "markdown",
   "id": "a67224ed",
   "metadata": {},
   "source": [
    "**Ans:** In Python, the highest possible length of an identifier is 79 characters. Python is a high level programming language. It’s also a complex form and a collector of waste.\n",
    "\n",
    "- Python, particularly when combined with identifiers, is case-sensitive.\n",
    "- When writing or using identifiers in Python, it has a maximum of 79 characters.\n",
    "- Unlikely, Python gives the identifiers unlimited length.\n",
    "- However, the layout of PEP-8 prevents the user from breaking the rules and includes a 79-character limit."
   ]
  },
  {
   "cell_type": "markdown",
   "id": "5879e6c6",
   "metadata": {},
   "source": [
    "### 5.\tWhat is generator comprehension?\n"
   ]
  },
  {
   "cell_type": "markdown",
   "id": "17fde67e",
   "metadata": {},
   "source": [
    "**Ans:** A generator comprehension is a single-line specification for defining a generator in Python. \n",
    "\n",
    "- It is absolutely essential to learn this syntax in order to write simple and readable code.\n",
    "- Generator comprehension uses round bracket unlike square bracket in list comprehension.\n",
    "- The generator yields one item at a time and generates item only when in demand. Whereas, in a list comprehension, Python reserves memory for the whole list. Thus we can say that the generator expressions are memory efficient than the lists."
   ]
  },
  {
   "cell_type": "code",
   "execution_count": 2,
   "id": "14c31425",
   "metadata": {},
   "outputs": [
    {
     "name": "stdout",
     "output_type": "stream",
     "text": [
      "[0, 1, 2, 3, 4, 5, 6, 7, 8, 9]\n",
      "<generator object <genexpr> at 0x0000024F6CE88660>\n",
      "0 2 4 6 8 "
     ]
    }
   ],
   "source": [
    "in_list = [x for x in range(10)] # List Comprehension\n",
    "print(in_list)\n",
    "out_gen = (x for x in in_list if x%2 == 0) # Generator Comprehension\n",
    "print(out_gen) # Returns a Generator Object\n",
    "for ele in out_gen:\n",
    "    print(ele, end=\" \")"
   ]
  }
 ],
 "metadata": {
  "kernelspec": {
   "display_name": "Python 3 (ipykernel)",
   "language": "python",
   "name": "python3"
  },
  "language_info": {
   "codemirror_mode": {
    "name": "ipython",
    "version": 3
   },
   "file_extension": ".py",
   "mimetype": "text/x-python",
   "name": "python",
   "nbconvert_exporter": "python",
   "pygments_lexer": "ipython3",
   "version": "3.9.12"
  }
 },
 "nbformat": 4,
 "nbformat_minor": 5
}
