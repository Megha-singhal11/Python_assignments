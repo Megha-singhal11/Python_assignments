{
 "cells": [
  {
   "cell_type": "markdown",
   "id": "81f60edb",
   "metadata": {},
   "source": [
    "### Q1. What is the purpose of the try statement?\n"
   ]
  },
  {
   "cell_type": "markdown",
   "id": "b4e5db8f",
   "metadata": {},
   "source": [
    "The code inside the **`try`** block is executed. If an **exception** is raised within this block, the control immediately jumps to the corresponding except block based on the type of exception that occurred.\n",
    "\n",
    "If an **exception** is raised and it matches the type specified in an except block, the code within that except **block** is executed. This allows you to handle the exception in a controlled manner, such as logging an error message or taking some alternative action."
   ]
  },
  {
   "cell_type": "code",
   "execution_count": null,
   "id": "8bbf3d4d",
   "metadata": {},
   "outputs": [],
   "source": [
    "### UNDERSTANDING EACH STATEMENT, HOW DOES IT WORK\n",
    "\n",
    "try:\n",
    "    # Code that might raise an exception    \n",
    "except SomeException: \n",
    "    # Code to handle the specific exception   \n",
    "except AnotherException:    \n",
    "    # Code to handle a different exception   \n",
    "else:   \n",
    "    # Code that runs if no exception is raised in the try block    \n",
    "finally:    \n",
    "    # Code that always runs, regardless of whether an exception occurred"
   ]
  },
  {
   "cell_type": "code",
   "execution_count": 1,
   "id": "b43526f4",
   "metadata": {},
   "outputs": [
    {
     "name": "stdout",
     "output_type": "stream",
     "text": [
      "Division by Zero is Not Possible\n"
     ]
    }
   ],
   "source": [
    "try:\n",
    "    print(10/0)\n",
    "except ZeroDivisionError:\n",
    "    print('Division by Zero is Not Possible')"
   ]
  },
  {
   "cell_type": "markdown",
   "id": "27ce9841",
   "metadata": {},
   "source": [
    "### Q2. What are the two most popular try statement variations?\n"
   ]
  },
  {
   "cell_type": "markdown",
   "id": "38edf601",
   "metadata": {},
   "source": [
    "**Ans:** The Popular try statement variations are:\n",
    "1. **`try`,`except`**\n",
    "2. **`try`,`except`,`finally`**\n",
    "3. **`try`,`except`,`finally`,`else`**\n",
    "\n",
    "The **`try`** block is used to check code for exceptions during runtime. ie code inside `try` block will execute completely when there is no error in the program. Whereas the code inside `except` block will execute whenever the program encounters some error in the preceeding **`try`** block.\n",
    "\n",
    "1. **Using `except` Blocks:** This variation involves using one or more `except` blocks to catch and handle specific exceptions that might occur within the `try` block. You can have multiple `except` blocks to handle different types of exceptions. The control will go to the first matching `except` block based on the type of exception raised.\n",
    "\n",
    "   ```python\n",
    "   try:\n",
    "       # Code that might raise an exception\n",
    "   except SomeException:\n",
    "       # Code to handle the specific exception\n",
    "   except AnotherException:\n",
    "       # Code to handle a different exception\n",
    "   else:\n",
    "       # Code that runs if no exception is raised in the try block\n",
    "   ```\n",
    "\n",
    "Whereas the code enters the **`else`** block if and only if the try clause does not raise and exception. The code in the **`finally`** block will execute irrespective of exception.\n",
    "\n",
    "2. **Using `finally` Blocks:** The `finally` block is used to contain code that will be executed regardless of whether an exception occurred or not. This is useful for cleanup operations that need to happen regardless of the outcome of the `try` block.\n",
    "\n",
    "   ```python\n",
    "   try:\n",
    "       # Code that might raise an exception\n",
    "   except SomeException:\n",
    "       # Code to handle the specific exception\n",
    "   finally:\n",
    "       # Code that always runs, regardless of whether an exception occurred\n",
    "   ```\n",
    "\n",
    "Both of these variations play a crucial role in managing exceptions and ensuring proper program behavior. The `except` variation allows you to handle exceptions selectively, while the `finally` variation ensures that critical cleanup tasks are performed no matter the outcome of the `try` block."
   ]
  },
  {
   "cell_type": "markdown",
   "id": "3e2898bf",
   "metadata": {},
   "source": [
    "### Q3. What is the purpose of the raise statement?\n"
   ]
  },
  {
   "cell_type": "markdown",
   "id": "d0cfe48e",
   "metadata": {},
   "source": [
    " **Ans:** **`raise`** statement is used to trigger an exception explicitly, if a certain condition is not as per requirement of programmer. **`raise`** statement helps in triggering exception as per programming logic."
   ]
  },
  {
   "cell_type": "code",
   "execution_count": 2,
   "id": "6c6d37ac",
   "metadata": {},
   "outputs": [],
   "source": [
    "def example_function(value):\n",
    "    if value < 0:\n",
    "        raise ValueError(\"Value must be non-negative\")"
   ]
  },
  {
   "cell_type": "code",
   "execution_count": 3,
   "id": "5c20edb7",
   "metadata": {},
   "outputs": [],
   "source": [
    "def complex_calculation(value):\n",
    "    if value == 0:\n",
    "        raise ValueError(\"Division by zero is not allowed\")\n",
    "    result = 10 / value\n",
    "    return result"
   ]
  },
  {
   "cell_type": "markdown",
   "id": "4603c231",
   "metadata": {},
   "source": [
    "### Q4. What does the assert statement do, and what other statement is it like?\n"
   ]
  },
  {
   "cell_type": "markdown",
   "id": "9d10a2a1",
   "metadata": {},
   "source": [
    "**Ans:** There are few assertions that programmer always want to be true to avoid code failure. This type of requirement is fulfilled by **`assert`** statement. This statement takes a **`boolean`** condition output of which is 'True', Further Program Executes. if output of assert statement is 'False', it raises an **Assertion Error.**"
   ]
  },
  {
   "cell_type": "code",
   "execution_count": 8,
   "id": "90cb56bf",
   "metadata": {},
   "outputs": [
    {
     "ename": "AssertionError",
     "evalue": "Division by zero is not allowed",
     "output_type": "error",
     "traceback": [
      "\u001b[1;31m---------------------------------------------------------------------------\u001b[0m",
      "\u001b[1;31mAssertionError\u001b[0m                            Traceback (most recent call last)",
      "Input \u001b[1;32mIn [8]\u001b[0m, in \u001b[0;36m<cell line: 5>\u001b[1;34m()\u001b[0m\n\u001b[0;32m      2\u001b[0m     \u001b[38;5;28;01massert\u001b[39;00m b \u001b[38;5;241m!=\u001b[39m \u001b[38;5;241m0\u001b[39m, \u001b[38;5;124m\"\u001b[39m\u001b[38;5;124mDivision by zero is not allowed\u001b[39m\u001b[38;5;124m\"\u001b[39m\n\u001b[0;32m      3\u001b[0m     \u001b[38;5;28;01mreturn\u001b[39;00m a \u001b[38;5;241m/\u001b[39m b\n\u001b[1;32m----> 5\u001b[0m \u001b[43mdivide\u001b[49m\u001b[43m \u001b[49m\u001b[43m(\u001b[49m\u001b[38;5;241;43m1\u001b[39;49m\u001b[43m,\u001b[49m\u001b[38;5;241;43m0\u001b[39;49m\u001b[43m)\u001b[49m\n",
      "Input \u001b[1;32mIn [8]\u001b[0m, in \u001b[0;36mdivide\u001b[1;34m(a, b)\u001b[0m\n\u001b[0;32m      1\u001b[0m \u001b[38;5;28;01mdef\u001b[39;00m \u001b[38;5;21mdivide\u001b[39m(a, b):\n\u001b[1;32m----> 2\u001b[0m     \u001b[38;5;28;01massert\u001b[39;00m b \u001b[38;5;241m!=\u001b[39m \u001b[38;5;241m0\u001b[39m, \u001b[38;5;124m\"\u001b[39m\u001b[38;5;124mDivision by zero is not allowed\u001b[39m\u001b[38;5;124m\"\u001b[39m\n\u001b[0;32m      3\u001b[0m     \u001b[38;5;28;01mreturn\u001b[39;00m a \u001b[38;5;241m/\u001b[39m b\n",
      "\u001b[1;31mAssertionError\u001b[0m: Division by zero is not allowed"
     ]
    }
   ],
   "source": [
    "def divide(a, b):\n",
    "    assert b != 0, \"Division by zero is not allowed\"\n",
    "    return a / b\n",
    "\n",
    "divide (1,0)"
   ]
  },
  {
   "cell_type": "markdown",
   "id": "d35a4133",
   "metadata": {},
   "source": [
    "### Q5. What is the purpose of the with/as argument, and what other statement is it like?\n"
   ]
  },
  {
   "cell_type": "markdown",
   "id": "6c1678f8",
   "metadata": {},
   "source": [
    "**Ans:** **`with/as`** statement simplifies use of file handling in python. When we use a **`with`** statement for file reading, there is no need for programmer to explicitly takecare of activities like resource deallocation and file closing by using file.close() method. **`with`** statement itself ensures proper acquisition and release of resources. this avoids triggering of exceptions if file closing is unknowingly forgotten in the code execution.\n",
    "\n",
    "CODE : with open('example.txt', 'r') as file:    \n",
    "    content = file.read()\n",
    "#### 'file' is automatically closed when the block is exited"
   ]
  },
  {
   "cell_type": "markdown",
   "id": "7229b908",
   "metadata": {},
   "source": [
    "### Understanding of code\n",
    "\n",
    "**`with`** context_manager **`as`** resource:   \n",
    "      # Code that uses the resource   \n",
    "    #### Resource is automatically released when the block is exited"
   ]
  },
  {
   "cell_type": "code",
   "execution_count": null,
   "id": "1e7ee636",
   "metadata": {},
   "outputs": [],
   "source": []
  }
 ],
 "metadata": {
  "kernelspec": {
   "display_name": "Python 3 (ipykernel)",
   "language": "python",
   "name": "python3"
  },
  "language_info": {
   "codemirror_mode": {
    "name": "ipython",
    "version": 3
   },
   "file_extension": ".py",
   "mimetype": "text/x-python",
   "name": "python",
   "nbconvert_exporter": "python",
   "pygments_lexer": "ipython3",
   "version": "3.9.12"
  }
 },
 "nbformat": 4,
 "nbformat_minor": 5
}
