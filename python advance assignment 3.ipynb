{
 "cells": [
  {
   "cell_type": "markdown",
   "id": "6d38e68b",
   "metadata": {},
   "source": [
    "### Q1. What is the concept of an abstract superclass?\n",
    "**Ans:** \n",
    "An abstract class/superclass can be considered as a blueprint for other classes. It allows you to create a set of methods that must be created within any child classes built from the abstract class. A class which contains one or more abstract methods is called an abstract class.\n",
    "Also, it does not provide a built-in mechanism for defining abstract classes, but it can be achieved using the abc module and the ABC (Abstract Base Class) metaclass.\n",
    "An abstract superclass may include abstract methods, which are method declarations without any implementation.\n",
    "Subclasses of an abstract superclass are required to provide concrete implementations for the abstract methods defined in the superclass.\n",
    "\n",
    "Whereas an abstract method is a method that has a declaration but does not have an implementation"
   ]
  },
  {
   "cell_type": "code",
   "execution_count": 1,
   "id": "00e14ca4",
   "metadata": {},
   "outputs": [],
   "source": [
    "from abc import ABC, abstractmethod\n",
    "class Polygon(ABC): # Abstract Class\n",
    "    @abstractmethod\n",
    "    def noofsides(self): # Abstract Method\n",
    "        pass\n",
    "class Triangle(Polygon):\n",
    "    def noofsides(self):  # overriding abstract method in child class Triangle\n",
    "        print(\"I have 3 sides\")\n",
    "class Pentagon(Polygon):\n",
    "    def noofsides(self): # overriding abstract method in child class Pentagon\n",
    "        print(\"I have 5 sides\")"
   ]
  },
  {
   "cell_type": "markdown",
   "id": "e4a49a25",
   "metadata": {},
   "source": [
    "### Q2. What happens when a class statement's top level contains a basic assignment statement?\n",
    "**Ans:** \n",
    "When a Class statement's top level contains a basic assignment statement, its usually treated as a class attribute or class level variable. \n",
    "\n",
    "where as assignment statements inside methods are treated as instance attributes or local attributes.\n",
    "The attribute is associated with the class itself, rather than individual instances.\n",
    "Whereas, all instances of the class can access and modify the class-level attribute.\n",
    "\n",
    "When an instance of a class is created a single copy of class attributes is maintained and shared to all instances of class. where as each instance object maintains its own copy of instance variables."
   ]
  },
  {
   "cell_type": "code",
   "execution_count": 2,
   "id": "c5d88b4d",
   "metadata": {},
   "outputs": [],
   "source": [
    "class Person:\n",
    "    species = 'Homesapiens' # class attribute\n",
    "    def __init__(self,name,gender):\n",
    "        self.name = name # instance attributes\n",
    "        self.gender = gender"
   ]
  },
  {
   "cell_type": "markdown",
   "id": "beb231b3",
   "metadata": {},
   "source": [
    "### Q3. Why does a class need to manually call a superclass's __init__ method?\n",
    "**Ans:** \n",
    "if a child class has **`__init__`** method, then it will not inherit the **`__init__`** method of the parent class. in other words the **`__init__`** method of the child class overrides the **`__init__`** method of the parent class. so we have to manually call a parent superclass's **`__init__`** using **`super()`** method.\n",
    "\n",
    "A class needs to manually call a superclass's __init__ method to ensure proper initialization and attribute setup throughout the inheritance chain. This allows the subclass to add its own specific initialization tasks while maintaining the integrity of the superclass's initialization."
   ]
  },
  {
   "cell_type": "code",
   "execution_count": 3,
   "id": "d30162f0",
   "metadata": {},
   "outputs": [
    {
     "name": "stdout",
     "output_type": "stream",
     "text": [
      "{'name': 'Varun', 'age': 27, 'salary': 29000}\n"
     ]
    }
   ],
   "source": [
    "class Person:\n",
    "    def __init__(self,name,age):\n",
    "        self.name = name\n",
    "        self.age = age       \n",
    "class Employee(Person):\n",
    "    def __init__(self,name,age,salary):\n",
    "        super().__init__(name,age)\n",
    "        self.salary = salary\n",
    "emp_1 = Employee('Varun',27,29000)\n",
    "print(emp_1.__dict__)"
   ]
  },
  {
   "cell_type": "markdown",
   "id": "f7468111",
   "metadata": {},
   "source": [
    "### Q4. How can you augment, instead of completely replacing, an inherited method?\n",
    "**Ans:** **`super()`**\n",
    "\n",
    "to augment an inherited method in Python, redefine the method in the subclass and use super().method_name() to call the superclass's method. This approach allows you to add or modify behavior while preserving and utilizing the core functionality provided by the superclass."
   ]
  },
  {
   "cell_type": "code",
   "execution_count": 4,
   "id": "437bf527",
   "metadata": {},
   "outputs": [
    {
     "name": "stdout",
     "output_type": "stream",
     "text": [
      "{'name': 'Vivan', 'gender': 'Male', 'salary': 100000}\n"
     ]
    }
   ],
   "source": [
    "class Person:\n",
    "    def __init__(self,name,gender):\n",
    "        self.name = name\n",
    "        self.gender = gender\n",
    "class Employee(Person):\n",
    "    def __init__(self,name,gender,salary):\n",
    "        super().__init__(name,gender) \n",
    "        self.salary = salary\n",
    "emp_1 = Employee('Vivan','Male',100000)\n",
    "print(emp_1.__dict__)       "
   ]
  },
  {
   "cell_type": "markdown",
   "id": "16559793",
   "metadata": {},
   "source": [
    "### Q5. How is the local scope of a class different from that of a function?\n",
    "**Ans:** \n",
    "Local Scope of a Class:\n",
    "\n",
    "Class scope refers to the scope within the class definition.\n",
    "Variables defined within the class scope, but outside any method, are considered class attributes and are accessible to all instances of the class.\n",
    "Class attributes are shared among instances and are accessible through both the class and its instances.\n",
    "Class methods and static methods can be defined within the class scope and accessed by all instances.\n",
    "\n",
    "Local Scope of a Function:\n",
    "\n",
    "Function scope refers to the scope within a function definition.\n",
    "Variables defined within the function scope are local variables and are accessible only within that specific function.\n",
    "Local variables are created when the function is called and are destroyed when the function finishes executing.\n",
    "Function parameters and variables declared within the function are confined to the function's scope and cannot be accessed outside of it."
   ]
  },
  {
   "cell_type": "code",
   "execution_count": 5,
   "id": "1d9896b9",
   "metadata": {},
   "outputs": [
    {
     "name": "stdout",
     "output_type": "stream",
     "text": [
      "you're name is vivek\n",
      "Name varible is not available outside hello function scope\n",
      "HomeSapines\n",
      "HomeSapines\n"
     ]
    }
   ],
   "source": [
    "def hello(name):\n",
    "    name = name\n",
    "    print(f'you\\'re name is {name}')\n",
    "hello('vivek')\n",
    "try:\n",
    "    name\n",
    "except NameError:\n",
    "    print('Name varible is not available outside hello function scope')\n",
    "\n",
    "class Person:\n",
    "    species = \"HomeSapines\"\n",
    "    def __init__(self):\n",
    "        pass\n",
    "print(Person.species) # Accessing species using class name\n",
    "Male = Person()\n",
    "print(Male.species) # Accessing species using instance of class"
   ]
  },
  {
   "cell_type": "code",
   "execution_count": null,
   "id": "407efe4a",
   "metadata": {},
   "outputs": [],
   "source": []
  }
 ],
 "metadata": {
  "kernelspec": {
   "display_name": "Python 3 (ipykernel)",
   "language": "python",
   "name": "python3"
  },
  "language_info": {
   "codemirror_mode": {
    "name": "ipython",
    "version": 3
   },
   "file_extension": ".py",
   "mimetype": "text/x-python",
   "name": "python",
   "nbconvert_exporter": "python",
   "pygments_lexer": "ipython3",
   "version": "3.9.12"
  }
 },
 "nbformat": 4,
 "nbformat_minor": 5
}
