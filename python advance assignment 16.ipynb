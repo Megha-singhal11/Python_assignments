{
 "cells": [
  {
   "cell_type": "markdown",
   "id": "f8313cc0",
   "metadata": {},
   "source": [
    "### Q1. What is the benefit of regular expressions?\n",
    "**Ans:** Regular Expressions, also known as **`regex`** or **`regexp`**, are used to match strings of text such as particular characters, words, or patterns of characters. It means that we can match and extract any string pattern from the text with the help of regular expressions. it helps the programmers to Write less and cleaner code. it also avoids multiple use of **`if/else`** statements.\n",
    "\n",
    "#### EXAMPLE:\n",
    "**re.search(pattern, string): Searches for a pattern anywhere in the string and returns the first match found.   \n",
    "re.match(pattern, string): Matches the pattern only at the beginning of the string.   \n",
    "re.findall(pattern, string): Returns all non-overlapping matches of the pattern in the string as a list.   \n",
    "re.sub(pattern, replacement, string): Replaces all occurrences of the pattern in the string with the replacement.   \n",
    "re.compile(pattern): Compiles the pattern into a regex object for improved performance when using it repeatedly.**\n",
    "\n",
    "Regular expressions provide a concise and powerful way to work with text patterns in Python, enabling efficient searching, matching, and manipulation of text data."
   ]
  },
  {
   "cell_type": "markdown",
   "id": "3ec69ca0",
   "metadata": {},
   "source": [
    "### Q2. Describe the difference between the effects of \"(ab)c+\" and \"a(bc)+\" Which of these, if any, is the unqualified pattern \"abc+\"?\n",
    "**Ans:** Both **`(ab)c+`** and **`a(bc)+`** are valid patterns. the difference between both these patterns is in **`(ab)c+`** **`ab`** is group whereas in **`a(bc)+`** **`bc`** is a group.\n",
    "\n",
    "**\"(ab)c+\":**\n",
    "\n",
    "1. This pattern matches strings that start with \"ab\" and are followed by one or more occurrences of the letter \"c\". The parentheses indicate a capturing group, which captures the substring \"ab\" as a group.\n",
    "2. Examples of strings that match this pattern: \"abc\", \"abcc\", \"abccc\", and so on.\n",
    "3. The \"+\", outside the parentheses, specifies that the capturing group should occur one or more times consecutively.\n",
    "\n",
    "**\"a(bc)+\":**\n",
    "\n",
    "1. This pattern matches strings that start with the letter \"a\" and are followed by one or more occurrences of the substring \"bc\". The parentheses indicate a capturing group, which captures the substring \"bc\" as a group.\n",
    "2. Examples of strings that match this pattern: \"abc\", \"abcbc\", \"abcbcbc\", and so on.\n",
    "3. The \"+\", outside the parentheses, specifies that the capturing group should occur one or more times consecutively.\n",
    "\n",
    "The unqualified pattern \"abc+\" refers to the pattern that matches the letter \"a\" followed by one or more occurrences of the letter \"b\", with no specific grouping or sequence constraints."
   ]
  },
  {
   "cell_type": "markdown",
   "id": "2b4c8728",
   "metadata": {},
   "source": [
    "### Q3. How much do you need to use the following sentence while using regular expressions?\n",
    "**`import re`**  \n",
    "\n",
    "**Ans:** **`import re`** statement always has to be imported before using regular expressions.\n",
    "The \"re\" module provides various functions and methods, such as re.search(), re.match(), re.findall(), re.sub(), and more, which allow you to perform pattern matching, substitution, and other operations using regular expressions.\n",
    "Therefore, whenever you want to work with regular expressions in Python, you need to include the \"import re\" statement at the top of your script or module to import the necessary module for regular expression operations."
   ]
  },
  {
   "cell_type": "code",
   "execution_count": 1,
   "id": "30085b1c",
   "metadata": {},
   "outputs": [
    {
     "name": "stdout",
     "output_type": "stream",
     "text": [
      "Found match: 1234\n"
     ]
    }
   ],
   "source": [
    "### EXAMPLE OF re.search()\n",
    "import re\n",
    "\n",
    "# Example usage of regular expressions\n",
    "pattern = r'\\d+'  # Regular expression pattern to match one or more digits\n",
    "text = '1234 Hello World'\n",
    "\n",
    "match = re.search(pattern, text)\n",
    "if match:\n",
    "    print('Found match:', match.group())  # Output: Found match: 1234"
   ]
  },
  {
   "cell_type": "markdown",
   "id": "2338be46",
   "metadata": {},
   "source": [
    "### Q4. Which characters have special significance in square brackets when expressing a range, and under what circumstances?\n",
    "**Ans:** The Characters **`.`,`*`,`?`,`^`**,or,**`()`**, have a special signiface when used with square brackets. They need not be be explicitly escaped by **`\\`** as in case of pattern texts in a raw string.\n",
    "\n",
    "**[0-9] matches any digit from '0' to '9'.\n",
    "[a-z] matches any lowercase letter from 'a' to 'z'.\n",
    "[^A-Z] matches any character that is not an uppercase letter.\n",
    "[abc] matches either 'a', 'b', or 'c'.\n",
    "[\\[\\]] matches either an opening or closing square bracket.**\n",
    "\n",
    "#### Remember that the interpretation of special characters within square brackets can also depend on the specific regular expression engine or library you are using, so it's always a good practice to consult the documentation for the particular implementation you are working with."
   ]
  },
  {
   "cell_type": "markdown",
   "id": "bc0c3bef",
   "metadata": {},
   "source": [
    "### Q5. How does compiling a regular-expression object benefit you?\n",
    "**Ans:** We can Combine a regular expression pattern into pattern Objects.Which can be used for pattern matching. it also helps to search a pattern again without rewritting it.\n",
    "\n",
    "1. The compilation process optimizes the regex pattern and creates a compiled representation that can be executed faster than repeatedly using the pattern without compilation.\n",
    "2. This improves code readability and allows you to reuse the compiled regex object multiple times throughout your codebase, reducing duplication and enhancing maintainability.\n",
    "3. function accepts optional flags and options as arguments. These flags enable you to modify the behavior of the regex pattern, such as case insensitivity or multiline matching.\n",
    "4. If there are any syntax errors or issues with the regex pattern, an exception will be raised at the time of compilation, making it easier to detect and fix regex-related errors early."
   ]
  },
  {
   "cell_type": "markdown",
   "id": "c2885976",
   "metadata": {},
   "source": [
    "### Q6. What are some examples of how to use the match object returned by re.match and re.search?\n",
    "**Ans:** The **`re.search()`** and **`re.match()`** both are functions of re module in python. These functions are very efficient and fast for searching in strings. The function searches for some substring in a string and returns a match object if found, else it returns none.\n",
    "\n",
    "There is a difference between the use of both functions. Both return the first match of a substring found in the string, but **`re.match()`** searches only from the beginning of the string and return match object if found. But if a match of substring is found somewhere in the middle of the string, it returns none. \n",
    "\n",
    "While **`re.search()`** searches for the whole string even if the string contains multi-lines and tries to find a match of the substring in all the lines of string\n",
    "\n",
    "to use the match object returned by re.match() and re.search() to access matched text, groups, positions, and named groups. We can utilize these methods and attributes to extract relevant information from the matched patterns in your regular expression operations."
   ]
  },
  {
   "cell_type": "code",
   "execution_count": 2,
   "id": "603447b9",
   "metadata": {},
   "outputs": [
    {
     "name": "stdout",
     "output_type": "stream",
     "text": [
      "1234-Hello\n",
      "1234\n",
      "Hello\n",
      "1234-Hello\n",
      "1234\n",
      "Hello\n"
     ]
    }
   ],
   "source": [
    "import re\n",
    "\n",
    "pattern = r'(\\d+)-(\\w+)'\n",
    "text = '1234-Hello'\n",
    "\n",
    "# Using re.match()\n",
    "match_obj = re.match(pattern, text)\n",
    "if match_obj:\n",
    "    print(match_obj.group())  # Output: 1234-Hello\n",
    "    print(match_obj.group(1))  # Output: 1234\n",
    "    print(match_obj.group(2))  # Output: Hello\n",
    "\n",
    "# Using re.search()\n",
    "match_obj = re.search(pattern, text)\n",
    "if match_obj:\n",
    "    print(match_obj.group())  # Output: 1234-Hello\n",
    "    print(match_obj.group(1))  # Output: 1234\n",
    "    print(match_obj.group(2))  # Output: Hello"
   ]
  },
  {
   "cell_type": "code",
   "execution_count": 1,
   "id": "358eb508",
   "metadata": {},
   "outputs": [
    {
     "name": "stdout",
     "output_type": "stream",
     "text": [
      "<_sre.SRE_Match object; span=(66, 72), match='string'>\n",
      "None\n",
      "<_sre.SRE_Match object; span=(0, 6), match='string'>\n",
      "<_sre.SRE_Match object; span=(0, 6), match='string'>\n"
     ]
    }
   ],
   "source": [
    "import re\n",
    "Substring ='string' \n",
    "String1 ='We are learning regex with geeksforgeeks regex is very useful for string matching. It is fast too.' \n",
    "String2 ='string We are learning regex with geeksforgeeks regex is very useful for string matching. It is fast too.'\n",
    "print(re.search(Substring, String1, re.IGNORECASE))\n",
    "print(re.match(Substring, String1, re.IGNORECASE))\n",
    "print(re.search(Substring, String2, re.IGNORECASE))\n",
    "print(re.match(Substring, String2, re.IGNORECASE))"
   ]
  },
  {
   "cell_type": "markdown",
   "id": "babed21c",
   "metadata": {},
   "source": [
    "### Q7. What is the difference between using a vertical bar (|) as an alteration and using square brackets as a character set?\n",
    "**Ans:** When **`|`** us used then patterns searches for **`or`** option. i.e **`<pattern_1>|<pattern_2>`** means it searches as **`<pattern_1>or<<pattern_2>`** in the searched string. the first occurance of matched string will be returned as the Match Object.      \n",
    "**Vertical Bar (|) - Alternation:**    \n",
    "The vertical bar (|) is used for alternation, which allows you to specify multiple alternative patterns to match.   \n",
    "    For example, the pattern apple|banana will match either \"apple\" or \"banana\".   \n",
    "The alternation can involve patterns of varying lengths and complexity.    \n",
    "Example: re.search(r'apple|banana', 'I love apples') will match \"apple\" in the given string.   \n",
    "\n",
    "**Square Brackets ([]) - Character Set:**    \n",
    "Square brackets ([]) are used to define a character set, allowing you to specify a set of characters from which one character should match.    \n",
    "     For example, the pattern [aeiou] will match any single vowel character.   \n",
    "The character set can include individual characters, character ranges, and character classes.   \n",
    "Example: re.search(r'[aeiou]', 'Hello, world') will match the first occurrence of any vowel ('e' in this case)."
   ]
  },
  {
   "cell_type": "markdown",
   "id": "aad2feb4",
   "metadata": {},
   "source": [
    "### Q8. In regular-expression search patterns, why is it necessary to use the raw-string indicator (r)? In   replacement strings?\n",
    "**Ans:** Raw Strings are used in the regular-expression search patterns, so that blackslashes donot have to be escaped.   \n",
    "Using a raw string (r\"pattern\") tells Python to treat the string as a raw string literal, ignoring escape characters, ensuring that the regular expression pattern is correctly interpreted.       \n",
    "Using a raw string (r\"replacement\") ensures that backslashes are treated as literal characters and not escape characters."
   ]
  },
  {
   "cell_type": "code",
   "execution_count": 3,
   "id": "56de5085",
   "metadata": {},
   "outputs": [
    {
     "name": "stdout",
     "output_type": "stream",
     "text": [
      "1234\n"
     ]
    }
   ],
   "source": [
    "### EXAMPLE OF R PATTERNS \n",
    "import re\n",
    "\n",
    "pattern = r\"\\d+\"  # Raw string with the pattern \\d+\n",
    "text = \"1234\"\n",
    "\n",
    "match = re.search(pattern, text)\n",
    "if match:\n",
    "    print(match.group())  # Output: 1234"
   ]
  },
  {
   "cell_type": "code",
   "execution_count": 4,
   "id": "1c33a951",
   "metadata": {},
   "outputs": [
    {
     "name": "stdout",
     "output_type": "stream",
     "text": [
      "I like apples.\n"
     ]
    }
   ],
   "source": [
    "#### EXAMPLE OF R REPLACEMENT\n",
    "\n",
    "import re\n",
    "\n",
    "pattern = r\"\\bapple\\b\"\n",
    "text = \"I like apples.\"\n",
    "\n",
    "new_text = re.sub(pattern, r\"banana\", text)\n",
    "print(new_text)  # Output: I like bananas."
   ]
  },
  {
   "cell_type": "code",
   "execution_count": null,
   "id": "0718f95c",
   "metadata": {},
   "outputs": [],
   "source": []
  }
 ],
 "metadata": {
  "kernelspec": {
   "display_name": "Python 3 (ipykernel)",
   "language": "python",
   "name": "python3"
  },
  "language_info": {
   "codemirror_mode": {
    "name": "ipython",
    "version": 3
   },
   "file_extension": ".py",
   "mimetype": "text/x-python",
   "name": "python",
   "nbconvert_exporter": "python",
   "pygments_lexer": "ipython3",
   "version": "3.9.12"
  }
 },
 "nbformat": 4,
 "nbformat_minor": 5
}
