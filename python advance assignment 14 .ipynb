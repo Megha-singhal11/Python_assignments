{
 "cells": [
  {
   "cell_type": "markdown",
   "id": "d435b0b1",
   "metadata": {},
   "source": [
    "### Q1. Is an assignment operator like += only for show? Is it possible that it would lead to faster results at the runtime ?\n"
   ]
  },
  {
   "cell_type": "markdown",
   "id": "02b6e184",
   "metadata": {},
   "source": [
    "NO, the += operator is not just for show; it provides an efficient way to update mutable objects in place, potentially leading to faster results in terms of runtime performance, especially for lists, arrays, and similar mutable structures.\n",
    "\n",
    "**`A=A+1`** evaluates to finding `A`, adding 1 to it. Then storing the value again in variable `A`. This expression makes Python to look for memory holder of a twice. But `A+=1` simply means value of `A` is to incremented by 1. As memory address has to be identified once, `+=` leads to faster operation. \n",
    "\n",
    "However, its usage can impact performance differently depending on the data type and the specific context in which it's used. Always consider the specific requirements and characteristics of your code when deciding whether to use += or explicit addition and assignment."
   ]
  },
  {
   "cell_type": "markdown",
   "id": "8ae22e60",
   "metadata": {},
   "source": [
    "### Q2. What is the smallest no of statements you'd have to write in most programming languages to replace the Python expr **`a, b = a + b, a`** ?\n"
   ]
  },
  {
   "cell_type": "markdown",
   "id": "079af528",
   "metadata": {},
   "source": [
    "**Ans:** Minimum number of lines required to write above code in languages other Python will be 4, two for assigning initial values for variables `a` and `b`, and two for reassignment i.e. `a=a+b` and `b=a`. "
   ]
  },
  {
   "cell_type": "markdown",
   "id": "5d1b7a55",
   "metadata": {},
   "source": [
    "### Q3. In Python, what is the most effective way to set a list of 100 integers to 0?\n"
   ]
  },
  {
   "cell_type": "markdown",
   "id": "c5fd9483",
   "metadata": {},
   "source": [
    "**Ans:** The Most effective way to set a list of 100 integers to 0 in python is by using repition operator(`*`) or by using list comprehension."
   ]
  },
  {
   "cell_type": "code",
   "execution_count": 1,
   "id": "0e09c311",
   "metadata": {},
   "outputs": [
    {
     "name": "stdout",
     "output_type": "stream",
     "text": [
      "[0, 0, 0, 0, 0, 0, 0, 0, 0, 0, 0, 0, 0, 0, 0, 0, 0, 0, 0, 0, 0, 0, 0, 0, 0, 0, 0, 0, 0, 0, 0, 0, 0, 0, 0, 0, 0, 0, 0, 0, 0, 0, 0, 0, 0, 0, 0, 0, 0, 0, 0, 0, 0, 0, 0, 0, 0, 0, 0, 0, 0, 0, 0, 0, 0, 0, 0, 0, 0, 0, 0, 0, 0, 0, 0, 0, 0, 0, 0, 0, 0, 0, 0, 0, 0, 0, 0, 0, 0, 0, 0, 0, 0, 0, 0, 0, 0, 0, 0, 0]\n",
      "[0, 0, 0, 0, 0, 0, 0, 0, 0, 0, 0, 0, 0, 0, 0, 0, 0, 0, 0, 0, 0, 0, 0, 0, 0, 0, 0, 0, 0, 0, 0, 0, 0, 0, 0, 0, 0, 0, 0, 0, 0, 0, 0, 0, 0, 0, 0, 0, 0, 0, 0, 0, 0, 0, 0, 0, 0, 0, 0, 0, 0, 0, 0, 0, 0, 0, 0, 0, 0, 0, 0, 0, 0, 0, 0, 0, 0, 0, 0, 0, 0, 0, 0, 0, 0, 0, 0, 0, 0, 0, 0, 0, 0, 0, 0, 0, 0, 0, 0, 0]\n"
     ]
    }
   ],
   "source": [
    "# Method 1\n",
    "list_zero=[0]*100\n",
    "print(list_zero)\n",
    "# Method 2\n",
    "zero_list = [0 for x in range(100)]\n",
    "print(zero_list)"
   ]
  },
  {
   "cell_type": "markdown",
   "id": "c07d6595",
   "metadata": {},
   "source": [
    "### Q4. What is the most effective way to initialise a list of 99 integers that repeats the sequence 1, 2, 3? S If necessary, show step-by-step instructions on how to accomplish this."
   ]
  },
  {
   "cell_type": "markdown",
   "id": "9e052331",
   "metadata": {},
   "source": [
    "The most effective way to initialize a list of 99 integers that repeats the sequence 1, 2, 3 is to use a combination of the multiplication operator and a list comprehension. You can create a new list by repeating the sequence [1, 2, 3] and then slicing it to get the first 99 elements.\n",
    "\n",
    "Here's how you can accomplish this step by step:\n",
    "\n",
    "1. **Create the Sequence:**\n",
    "   Create the sequence `[1, 2, 3]` using a list.\n",
    "\n",
    "   ```python\n",
    "   sequence = [1, 2, 3]\n",
    "   ```\n",
    "\n",
    "2. **Repeat the Sequence:**\n",
    "   Use the multiplication operator to repeat the sequence enough times to cover at least 99 elements. In this case, you can repeat it 33 times (since 3 * 33 = 99).\n",
    "\n",
    "   ```python\n",
    "   repeated_sequence = sequence * 33\n",
    "   ```\n",
    "\n",
    "3. **Slice to Get the First 99 Elements:**\n",
    "   Use slicing to get the first 99 elements of the repeated sequence.\n",
    "\n",
    "   ```python\n",
    "   result_list = repeated_sequence[:99]\n",
    "   ```\n",
    "\n",
    "Putting it all together:\n",
    "\n",
    "```python\n",
    "sequence = [1, 2, 3]\n",
    "repeated_sequence = sequence * 33\n",
    "result_list = repeated_sequence[:99]\n",
    "```\n",
    "\n",
    "Alternatively, you can combine the steps into a single line:\n",
    "\n",
    "```python\n",
    "result_list = ([1, 2, 3] * 33)[:99]\n",
    "```\n",
    "\n",
    "Both of these approaches efficiently initialize a list of 99 integers that repeats the sequence 1, 2, 3."
   ]
  },
  {
   "cell_type": "code",
   "execution_count": 2,
   "id": "045f78f1",
   "metadata": {},
   "outputs": [
    {
     "name": "stdout",
     "output_type": "stream",
     "text": [
      "[1, 2, 3, 1, 2, 3, 1, 2, 3, 1, 2, 3, 1, 2, 3, 1, 2, 3, 1, 2, 3, 1, 2, 3, 1, 2, 3, 1, 2, 3, 1, 2, 3, 1, 2, 3, 1, 2, 3, 1, 2, 3, 1, 2, 3, 1, 2, 3, 1, 2, 3, 1, 2, 3, 1, 2, 3, 1, 2, 3, 1, 2, 3, 1, 2, 3, 1, 2, 3, 1, 2, 3, 1, 2, 3, 1, 2, 3, 1, 2, 3, 1, 2, 3, 1, 2, 3, 1, 2, 3, 1, 2, 3, 1, 2, 3, 1, 2, 3]\n"
     ]
    }
   ],
   "source": [
    "my_list = [1,2,3]*33\n",
    "print(my_list)"
   ]
  },
  {
   "cell_type": "markdown",
   "id": "358a55c7",
   "metadata": {},
   "source": [
    "### Q5. If you're using IDLE to run a Python application, explain how to print a multidimensional list as efficiently?"
   ]
  },
  {
   "cell_type": "code",
   "execution_count": 3,
   "id": "aed405d3",
   "metadata": {},
   "outputs": [
    {
     "name": "stdout",
     "output_type": "stream",
     "text": [
      "1 1 2 2 3 3 4 4 5 5 "
     ]
    }
   ],
   "source": [
    "my_list = [[1,1],[2,2],[3,3],[4,4],[5,5]] # 2 dimensional List\n",
    "for x in range(len(my_list)):\n",
    "    for y in range(len(my_list[x])):\n",
    "        print(my_list[x][y],end=\" \")  ## output = multi dimensional list"
   ]
  },
  {
   "cell_type": "markdown",
   "id": "63510745",
   "metadata": {},
   "source": [
    "### Q6. Is it possible to use list comprehension with a string? If so, how can you go about doing it?\n"
   ]
  },
  {
   "cell_type": "markdown",
   "id": "08f8eece",
   "metadata": {},
   "source": [
    "Yes, **list comprehension** with a string in Python. List comprehensions are not limited to working only with lists; they can also be used with other iterable types like strings. List comprehensions with strings allow you to create new lists by applying operations to each character in the string.\n",
    "\n",
    "Here's how you can use list comprehension with a string:\n",
    "\n",
    "```python\n",
    "original_string = \"hello\"\n",
    "new_list = [char.upper() for char in original_string]\n",
    "print(new_list)  # Output: ['H', 'E', 'L', 'L', 'O']\n",
    "```\n",
    "\n",
    "In this example, the list comprehension `[char.upper() for char in original_string]` iterates through each character in the `original_string`, applies the `upper()` method to convert it to uppercase, and creates a new list with the uppercase characters.\n",
    "\n",
    "we can use various operations, functions, and conditions within a list comprehension to transform or filter the characters in the string. Here's another example that filters out vowels from the string:\n",
    "\n",
    "```python\n",
    "original_string = \"programming\"\n",
    "new_list = [char for char in original_string if char not in \"aeiou\"]\n",
    "print(new_list)  # Output: ['p', 'r', 'g', 'r', 'm', 'm', 'n', 'g']\n",
    "```\n",
    "\n",
    "In this example, the list comprehension `[char for char in original_string if char not in \"aeiou\"]` iterates through each character in the `original_string` and includes it in the new list only if it is not a vowel.\n",
    "\n",
    "List comprehensions provide a concise and expressive way to perform operations on strings (or other iterables) and create new lists based on the results."
   ]
  },
  {
   "cell_type": "code",
   "execution_count": 4,
   "id": "bf2d7e20",
   "metadata": {},
   "outputs": [
    {
     "name": "stdout",
     "output_type": "stream",
     "text": [
      "['i', 'N', 'e', 'u', 'r', 'o', 'n']\n"
     ]
    }
   ],
   "source": [
    "my_list = [ele for ele in 'iNeuron']\n",
    "print(my_list)"
   ]
  },
  {
   "cell_type": "markdown",
   "id": "9b1d0ecb",
   "metadata": {},
   "source": [
    "### Q7. From the command line, how do you get support with a user-written Python programme? Is this possible from inside IDLE?\n"
   ]
  },
  {
   "cell_type": "markdown",
   "id": "bd8a8d82",
   "metadata": {},
   "source": [
    "**Get support with a user-written Python Programme:**\n",
    "Start a command prompt (Windows) or terminal window (Linux/Mac). If the current working directory is the same as the location in which you saved the file, you can simply specify the filename as a command-line argument to the Python interpreter. \n",
    "\n",
    "**Get support with a User-written Python Program from IDLE:**\n",
    "You can also create script files and run them in IDLE. From the Shell window menu, select **`File → New File`**. That should open an additional editing window. Type in the code to be executed. From the menu in that window, **`select File → Save or File → Save As…`** and save the file to disk. Then **`select Run → Run Module`**. The output should appear back in the interpreter"
   ]
  },
  {
   "cell_type": "markdown",
   "id": "c6ddeb3e",
   "metadata": {},
   "source": [
    "### Q8. Functions are said to be “first-class objects” in Python but not in most other languages, such as C++ or Java. What can you do in Python with a function (callable object) that you can't do in C or C++?\n"
   ]
  },
  {
   "cell_type": "markdown",
   "id": "d8aa4a5d",
   "metadata": {},
   "source": [
    "**Ans:** The tasks which can be performed with the functions in python are: \n",
    "- A function is an instance of the Object type.\n",
    "- You can store the function in a variable. \n",
    "- You can pass the function as a parameter to another function.\n",
    "- You can return the function from a function.\n",
    "- You can store them in data structures such as hash tables, lists, "
   ]
  },
  {
   "cell_type": "markdown",
   "id": "885f228c",
   "metadata": {},
   "source": [
    "### Q9. How do you distinguish between a wrapper, a wrapped feature, and a decorator?\n"
   ]
  },
  {
   "cell_type": "markdown",
   "id": "0076a5f2",
   "metadata": {},
   "source": [
    "In software development, the terms \"wrapper,\" \"wrapped feature,\" and \"decorator\" refer to different concepts, each with its own specific meaning. Let's distinguish between these concepts:\n",
    "\n",
    "1. **Wrapper:**\n",
    "   A wrapper, in the context of software development, generally refers to a piece of code that provides an interface or encapsulates functionality from another piece of code. It acts as a layer that adds some functionality or modifies the behavior of the wrapped code. Wrappers are commonly used to provide a more convenient or abstracted way to use existing functionality or to extend the behavior of existing components.\n",
    "\n",
    "2. **Wrapped Feature:**\n",
    "   The wrapped feature refers to the original functionality or component that is being encapsulated or modified by a wrapper. It's the core functionality that the wrapper interacts with, enhances, or modifies.\n",
    "\n",
    "3. **Decorator:**\n",
    "   A decorator is a specific design pattern that allows you to dynamically add behavior to an object (or function) without altering its structure. In programming languages like Python, a decorator is often associated with modifying or enhancing functions or methods. Decorators are functions that take another function (or method) as an argument and return a new function with added behavior. They are commonly used for tasks like logging, caching, authentication, and more."
   ]
  },
  {
   "cell_type": "markdown",
   "id": "021d1f57",
   "metadata": {},
   "source": [
    "### Q10. If a function is a generator function, what does it return?\n"
   ]
  },
  {
   "cell_type": "markdown",
   "id": "849e0687",
   "metadata": {},
   "source": [
    "A generator function in Python does not return a regular value like a standard function. Instead, it returns a generator object. A generator object is an iterator, which means it can be iterated over using a loop or other iteration mechanisms.\n",
    "\n",
    "Generator functions are defined using the `yield` keyword instead of the `return` keyword. When a generator function is called, it doesn't execute the function body immediately. Instead, it returns a generator object that can be used to control the execution of the function in a lazy and memory-efficient manner.\n",
    "\n",
    "Here's an example of a simple generator function:\n",
    "\n",
    "```python\n",
    "def countdown(n):\n",
    "    while n > 0:\n",
    "        yield n\n",
    "        n -= 1\n",
    "\n",
    "# Create a generator object\n",
    "countdown_generator = countdown(5)\n",
    "\n",
    "# Iterate over the generator using a loop\n",
    "for num in countdown_generator:\n",
    "    print(num)\n",
    "```\n",
    "\n",
    "In this example, the `countdown` function is a generator function that counts down from a given number. When `countdown(5)` is called, it returns a generator object. The `for` loop then iterates over the generator, executing the function body incrementally and yielding values one at a time."
   ]
  },
  {
   "cell_type": "markdown",
   "id": "d6b419e2",
   "metadata": {},
   "source": [
    "### Q11. What is the one improvement that must be made to a function in order for it to become a generator function in the Python language?\n"
   ]
  },
  {
   "cell_type": "markdown",
   "id": "918a7a17",
   "metadata": {},
   "source": [
    "To convert a regular function into a generator function in Python, you need to make one specific change: replace the `return` statements with `yield` statements within the function body.\n",
    "\n",
    "Here's the key improvement that transforms a regular function into a generator function:\n",
    "\n",
    "1. **Replace `return` with `yield`:**\n",
    "   In a generator function, instead of using `return` to produce a value and terminate the function's execution, you use `yield` to yield a value and temporarily suspend the function's execution. This allows you to generate values one at a time and then continue from where the function was suspended when the generator is iterated.\n",
    "\n",
    "Here's an example to illustrate the change:\n",
    "\n",
    "Regular Function:\n",
    "```python\n",
    "def square_numbers(nums):\n",
    "    result = []\n",
    "    for num in nums:\n",
    "        result.append(num ** 2)\n",
    "    return result\n",
    "```\n",
    "\n",
    "Generator Function:\n",
    "```python\n",
    "def square_numbers(nums):\n",
    "    for num in nums:\n",
    "        yield num ** 2\n",
    "```\n",
    "\n",
    "In the generator function version, the `yield` statement is used to yield each squared value one at a time. This version of the function does not create and return a list; instead, it produces values on-the-fly as the generator is iterated."
   ]
  },
  {
   "cell_type": "markdown",
   "id": "d03fc035",
   "metadata": {},
   "source": [
    "### Q12. Identify at least one benefit of generators.\n"
   ]
  },
  {
   "cell_type": "markdown",
   "id": "34f77cad",
   "metadata": {},
   "source": [
    "**Ans:** **`return`** statement sends a specified value back to its caller whereas **`yield`** statment can produce a sequence of values. We should use generator when we want to iterate over a sequence, but don’t want to store the entire sequence in memory."
   ]
  }
 ],
 "metadata": {
  "kernelspec": {
   "display_name": "Python 3 (ipykernel)",
   "language": "python",
   "name": "python3"
  },
  "language_info": {
   "codemirror_mode": {
    "name": "ipython",
    "version": 3
   },
   "file_extension": ".py",
   "mimetype": "text/x-python",
   "name": "python",
   "nbconvert_exporter": "python",
   "pygments_lexer": "ipython3",
   "version": "3.9.12"
  }
 },
 "nbformat": 4,
 "nbformat_minor": 5
}
