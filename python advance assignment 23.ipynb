{
 "cells": [
  {
   "cell_type": "markdown",
   "id": "a260acf7",
   "metadata": {},
   "source": [
    "### Q1. If you have any, what are your choices for increasing the comparison between different figures on the same graph?\n"
   ]
  },
  {
   "cell_type": "markdown",
   "id": "2e793f6e",
   "metadata": {},
   "source": [
    "Increasing the comparison between different figures on the same graph can be achieved through various visualization techniques that enhance the visibility and distinction between data points. Here are some choices to consider:\n",
    "\n",
    "1. **Adjust Axis Scaling:**\n",
    "   Changing the scale of the axes can help emphasize differences. You can use linear, logarithmic, or other scaling depending on the nature of your data. Logarithmic scales are useful when data spans a wide range of magnitudes.\n",
    "\n",
    "2. **Grouping and Clustering:**\n",
    "   Group related data points together and use different colors, shapes, or patterns for each group. Clustering similar data points can make it easier to compare within the same group.\n",
    "\n",
    "3. **Contrasting Colors:**\n",
    "   Use contrasting and distinct colors for different data points or groups. This helps in visually differentiating between elements.\n",
    "\n",
    "4. **Annotations and Labels:**\n",
    "   Label data points with relevant values or names to provide context and aid comparison.\n",
    "\n",
    "5. **Data Markers and Symbols:**\n",
    "   Use different markers (circles, squares, triangles, etc.) to represent data points. This can help distinguish between data points at a glance.\n",
    "\n",
    "6. **Data Density Plotting:**\n",
    "   Techniques like scatter plots, bubble charts, and density plots can help represent the density and distribution of data points more effectively.\n",
    "\n",
    "7. **Error Bars:**\n",
    "   Adding error bars to data points can provide a sense of the variability or uncertainty associated with each data point.\n",
    "\n",
    "8. **Data Transformations:**\n",
    "   Apply mathematical transformations to the data to highlight specific patterns or relationships. For example, taking the first derivative of a curve might highlight changes in slope. "
   ]
  },
  {
   "cell_type": "markdown",
   "id": "501d4fb4",
   "metadata": {},
   "source": [
    "### Q2. Can you explain the benefit of compound interest over a higher rate of interest that does not compound after reading this chapter?\n"
   ]
  },
  {
   "cell_type": "markdown",
   "id": "72c28f9b",
   "metadata": {},
   "source": [
    "**Ans:** Compound interest makes a sum of money grow at a faster rate than simple interest,because in addition to earning returns on the money you invest, you also earn returns on those returns at the end of every compounding period, which could be daily, monthly, quarterly or annually."
   ]
  },
  {
   "cell_type": "markdown",
   "id": "7920fcc5",
   "metadata": {},
   "source": [
    "### Q3. What is a histogram, exactly? Name a numpy method for creating such a graph ?\n"
   ]
  },
  {
   "cell_type": "markdown",
   "id": "cc6e24fa",
   "metadata": {},
   "source": [
    "A histogram is a graphical representation of the distribution of numerical data. It divides the range of data into intervals called \"bins\" and shows the frequency or count of data points that fall into each bin. Histograms provide insights into the underlying data distribution, including the central tendency, spread, and shape of the data.\n",
    "\n",
    "In a histogram:\n",
    "\n",
    "- The x-axis represents the range of values being measured.\n",
    "- The y-axis represents the frequency or count of data points falling within each bin.\n",
    "\n",
    "Histograms are commonly used to visualize data distributions, identify patterns, detect outliers, and make informed decisions in various fields such as statistics, data analysis, and scientific research.\n",
    "\n",
    "In NumPy, you can create a histogram using the `numpy.histogram()` function. This function takes an array of data and returns the histogram counts and bin edges. Here's an example:\n",
    "\n",
    "```python\n",
    "import numpy as np\n",
    "import matplotlib.pyplot as plt\n",
    "\n",
    "# Generate random data for demonstration\n",
    "data = np.random.randn(1000)  # Normally distributed random data\n",
    "\n",
    "# Create a histogram\n",
    "hist_counts, hist_bins = np.histogram(data, bins=10)  # Specify the number of bins\n",
    "\n",
    "# Plot the histogram\n",
    "plt.hist(data, bins=hist_bins, edgecolor='black')\n",
    "plt.xlabel('Value')\n",
    "plt.ylabel('Frequency')\n",
    "plt.title('Histogram of Random Data')\n",
    "plt.show()\n",
    "```\n",
    "\n",
    "In this example, `np.histogram()` calculates the histogram counts and bin edges for the random data array. The `plt.hist()` function from the Matplotlib library is then used to create and display the histogram plot."
   ]
  },
  {
   "cell_type": "markdown",
   "id": "caab852d",
   "metadata": {},
   "source": [
    "### Q4. If necessary, how do you change the aspect ratios between the X and Y axes ?\n"
   ]
  },
  {
   "cell_type": "markdown",
   "id": "253c23f7",
   "metadata": {},
   "source": [
    "**Ans:** We can use `figure(figsize=(10,8))` function inside the `matplot.pyplot` library which we scale down or up the graph."
   ]
  },
  {
   "cell_type": "markdown",
   "id": "ffc536a9",
   "metadata": {},
   "source": [
    "### Q5. Compare and contrast the three types of array multiplication between two numpy arrays: dot product, outer product, and regular multiplication of two numpy arrays ?\n"
   ]
  },
  {
   "cell_type": "markdown",
   "id": "d24cd85f",
   "metadata": {},
   "source": [
    "**Ans:** : In regular multiplication values of same index get multiplied.\n",
    "- In dot product there is row wise multiplication, row of one array with column of second array and so on.\n",
    "- In outer multiplication every element of first array a1 will be multiply by every element of other array a2 such such the number of columns will be equal to the number of element in another array a2."
   ]
  },
  {
   "cell_type": "markdown",
   "id": "b6a81b43",
   "metadata": {},
   "source": [
    "### Q6. Before you buy a home, which numpy function will you use to measure your monthly mortgage payment ?\n"
   ]
  },
  {
   "cell_type": "markdown",
   "id": "ec13d24f",
   "metadata": {},
   "source": [
    "**Ans:** `np.pmt(rate, nper, pv)` function we will be using in order to calculate monthly mortgage payment before you purchase a house.\n",
    "- `rate` = The periodic interest rate\n",
    "- `nper` = The number of payment periods\n",
    "- `pv` = The total value of the mortgage loan"
   ]
  },
  {
   "cell_type": "markdown",
   "id": "e978ffdb",
   "metadata": {},
   "source": [
    "### Q7. Can string data be stored in numpy arrays? If so, list at least one restriction that applies to this data ?\n"
   ]
  },
  {
   "cell_type": "markdown",
   "id": "be5e2cfe",
   "metadata": {},
   "source": [
    "**Ans:** Yes, an array can store the string. The limitation which imposed on the string data is, whenever we store the data of string dtype then it should should keep in mind that the string which is having the maximum length is the limit. "
   ]
  }
 ],
 "metadata": {
  "kernelspec": {
   "display_name": "Python 3 (ipykernel)",
   "language": "python",
   "name": "python3"
  },
  "language_info": {
   "codemirror_mode": {
    "name": "ipython",
    "version": 3
   },
   "file_extension": ".py",
   "mimetype": "text/x-python",
   "name": "python",
   "nbconvert_exporter": "python",
   "pygments_lexer": "ipython3",
   "version": "3.9.12"
  }
 },
 "nbformat": 4,
 "nbformat_minor": 5
}
